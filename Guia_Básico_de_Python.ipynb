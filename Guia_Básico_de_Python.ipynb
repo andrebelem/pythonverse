{
  "nbformat": 4,
  "nbformat_minor": 0,
  "metadata": {
    "colab": {
      "name": "Guia Básico de Python.ipynb",
      "provenance": [],
      "collapsed_sections": [
        "RDHgqLialew_",
        "htM-7r63qlzm",
        "r_TzLqb0HR_x",
        "bwpBjiAnPZfP",
        "d30MXE0UUvHs",
        "hY6MCJ_SWyxX",
        "ESqo1npqYtub"
      ],
      "authorship_tag": "ABX9TyMoUwl1ZkhPXwccPJq99mEn",
      "include_colab_link": true
    },
    "kernelspec": {
      "name": "python3",
      "display_name": "Python 3"
    },
    "language_info": {
      "name": "python"
    }
  },
  "cells": [
    {
      "cell_type": "markdown",
      "metadata": {
        "id": "view-in-github",
        "colab_type": "text"
      },
      "source": [
        "<a href=\"https://colab.research.google.com/github/andrebelem/ensino/blob/main/Guia_B%C3%A1sico_de_Python.ipynb\" target=\"_parent\"><img src=\"https://colab.research.google.com/assets/colab-badge.svg\" alt=\"Open In Colab\"/></a>"
      ]
    },
    {
      "cell_type": "markdown",
      "metadata": {
        "id": "6_uSnW-BxUH-"
      },
      "source": [
        "![](http://observatoriooceanografico.org/wp-content/uploads/elementor/thumbs/logo-o2-2-p31vla9ib17i85olifd4l1xk0e5lktrkal6u0s4c6o.png)<br>\n",
        "# Python Notebook com funções básicas<br>\n",
        "\n",
        "Criado por [A.L. Belém](mailto:andrebelem@id.uff.br) @ [Observatório Oceanográfico](http://www.observatoiriooceanografico.uff.br) 2021 (versão 1) para disciplina de **Modelagem e Otimização de Sistemas Agrícolas e Ambientais** (e para quem mais se interessar)<br>\n",
        "[![DOI](https://zenodo.org/badge/342919527.svg)](https://zenodo.org/badge/latestdoi/342919527)\n",
        "###### Última atualização: 12 de Junho de 2021.\n",
        "<br>\n",
        "   Para você usar o Python de forma eficiente, você precisa saber algumas operações básicas. Não é necessário saber tudo isso de cabeça, mas ao menos você pode usar esse notebook para \"copiar\" algumas soluções quando for necessário.<br>\n",
        "As linhas abaixo podem funcionar de forma separada ou conjunta. A sugestão é que você vá executando cada linha e estudando tanto o seu conteúdo quanto o resultado. Copie para o seu Google Drive e modifique quando necessário (além de incluir suas próprias anotações).<br>\n",
        "\n",
        "Este Notebook foi criado para ser usado no **Google Colab**, mas também serve o Jupyter Notebook ou o Jupyter Lab."
      ]
    },
    {
      "cell_type": "markdown",
      "metadata": {
        "id": "L6Vi5i-OCshe"
      },
      "source": [
        "# Variáveis e *Strings*\n",
        "\n",
        "Quando você precisa armazenar valores, fazemos isso com **Variáveis**. Já uma **_String_** é onde armazenamos uma série de caracteres, entre aspas simples ou duplas.\n",
        "\n",
        "Veja os exemplos abaixo:\n"
      ]
    },
    {
      "cell_type": "code",
      "metadata": {
        "id": "SmA1tXpqCoFC"
      },
      "source": [
        "# (note que todos os comentários nas linhas de código iniciam por \"hashtag\" ou #)\n",
        "# esta é uma frase clássica de todo o curso de linguagem de programação\n",
        "print(\"Hello World\")"
      ],
      "execution_count": null,
      "outputs": []
    },
    {
      "cell_type": "code",
      "metadata": {
        "id": "rkT2XWR_DZ-1"
      },
      "source": [
        "# da mesma forma que eu posso colocar o que quero imprimir em uma **_string_**\n",
        "msg = \"Hello World\"\n",
        "print(msg)"
      ],
      "execution_count": null,
      "outputs": []
    },
    {
      "cell_type": "code",
      "metadata": {
        "id": "zg7o5YjADufD"
      },
      "source": [
        "# posso juntar duas strings ou outra informação aqui\n",
        "msg1 = \"hello \"\n",
        "msg2 = 'world' # e note que não faz diferença ter as aspas simples ou duplas\n",
        "print(msg1 + msg2)"
      ],
      "execution_count": null,
      "outputs": []
    },
    {
      "cell_type": "code",
      "metadata": {
        "id": "gecHXAYuEw08"
      },
      "source": [
        "# e você pode ainda juntar números no meio de texto\n",
        "numero = 2\n",
        "print(f'Hello world {numero}x') # note que neste caso colocamos o numero entre {} e um 'f' na frente do texto"
      ],
      "execution_count": null,
      "outputs": []
    },
    {
      "cell_type": "code",
      "metadata": {
        "id": "pgMhCxcdFarR"
      },
      "source": [
        "# caso você queria formatar o número, veja como é fácil\n",
        "# imagine pi 3.14159265359\n",
        "pi = 3.14159265359\n",
        "print(pi)             # imprimindo direto\n",
        "print(f'Pi={pi}')     # com formato\n",
        "print(f'Pi={pi:.4f}') # neste caso limitamos em 4 casas decimais"
      ],
      "execution_count": null,
      "outputs": []
    },
    {
      "cell_type": "markdown",
      "metadata": {
        "id": "9gSCblRAJGgG"
      },
      "source": [
        "# Listas\n",
        "\n",
        "Digamos agora que você precisa criar uma lista com nomes específicos ou uma série de itens, para depois acessar os itens usando um índice ou dentro de um loop de repetição. Usamos aqui o símbolo **[** **]**. \n",
        "\n",
        "Veja os exemplos abaixo:"
      ]
    },
    {
      "cell_type": "code",
      "metadata": {
        "id": "-bvk-_mxJoQk"
      },
      "source": [
        "# lista de localidades\n",
        "myloc = ['Almada', 'Fazenda Cariri','Córrego do Meio','Ponte Quebrada']\n",
        "# ou se eu quiser, de códigos (Estações por exemplo)\n",
        "mycod = ['SAMBA001','SAMBA002','SAMBA003','SAMBA004']\n",
        "\n",
        "# ao dar print, fazemos apenas 1x\n",
        "myloc"
      ],
      "execution_count": null,
      "outputs": []
    },
    {
      "cell_type": "code",
      "metadata": {
        "id": "Flm7wMbtKI28"
      },
      "source": [
        "# ou assim\n",
        "print(mycod)"
      ],
      "execution_count": null,
      "outputs": []
    },
    {
      "cell_type": "code",
      "metadata": {
        "id": "FB_HHWZ9KN_u"
      },
      "source": [
        "#ou posso acessar apenas 1 valor da lista\n",
        "print(f'primeiro valor :{myloc[0]}') # imprime o primeiro valor da lista\n",
        "print(f'último valor :{myloc[-1]}') # note que o último é referenciado como -1\n",
        "print(f'misturando tudo :{myloc[2]} e {mycod[-1]}') # tudo misturado"
      ],
      "execution_count": null,
      "outputs": []
    },
    {
      "cell_type": "code",
      "metadata": {
        "id": "fV85ltcELB6j"
      },
      "source": [
        "# posso ainda fazer um loop ou laço. Veja que a sintaxe é especial e a identação também é importante\n",
        "for loc in myloc:\n",
        "  print(f'Localidade:{loc}')"
      ],
      "execution_count": null,
      "outputs": []
    },
    {
      "cell_type": "code",
      "metadata": {
        "id": "PEE7A2u2LcDD"
      },
      "source": [
        "# listas podem começar vazias e depois adicionamos coisas\n",
        "meus_locais = []\n",
        "\n",
        "meus_locais.append(myloc[0]) # e posso misturar listas diferentes com o append\n",
        "meus_locais.append(mycod[0])\n",
        "meus_locais.append(myloc[1])\n",
        "meus_locais.append(mycod[1])\n",
        "\n",
        "print(meus_locais)"
      ],
      "execution_count": null,
      "outputs": []
    },
    {
      "cell_type": "code",
      "metadata": {
        "id": "O95L0kDSL32P"
      },
      "source": [
        "# posso ainda criar listas numéricas\n",
        "serie_numeros = []\n",
        "\n",
        "# em um laço\n",
        "for x in range(0,12): # note que o valor inicial é 0 e o final é 12\n",
        "  serie_numeros.append(x)\n",
        "\n",
        "print(serie_numeros) # note que a saida só vai até 11 (!) isso é característico do python"
      ],
      "execution_count": null,
      "outputs": []
    },
    {
      "cell_type": "code",
      "metadata": {
        "id": "3ijl6-y4MT--"
      },
      "source": [
        "# Posso ainda criar uma série numérica diretamente e com uma equação\n",
        "serie_numeros = [x**2 for x in range(0,12)] # neste caso estou elevando ao quadrado\n",
        "serie_numeros"
      ],
      "execution_count": null,
      "outputs": []
    },
    {
      "cell_type": "code",
      "metadata": {
        "id": "x66BEGrpMw48"
      },
      "source": [
        "# também posso \"fatiar\" uma lista\n",
        "print(f'Começando a partir do 2° da série:{serie_numeros[2:]}') \n",
        "print(f'do 2° ao antipenúltimo da série:{serie_numeros[2:-2]}') \n",
        "print(f'pulando de 2 em 2:{serie_numeros[0:-1:2]}') "
      ],
      "execution_count": null,
      "outputs": []
    },
    {
      "cell_type": "markdown",
      "metadata": {
        "id": "RDHgqLialew_"
      },
      "source": [
        "#Condicionantes\n",
        "\n",
        "Quando trabalhamos com variáveis, **declarações** são usadas para testar condições particulares e responder apropriadamente uma pergunta sobre uma variável ou os valores guardados em uma lista, por exemplo\n",
        "\n",
        "Veja os exemplos abaixo:"
      ]
    },
    {
      "cell_type": "code",
      "metadata": {
        "id": "O4SSIgGtl8fY"
      },
      "source": [
        "# primeiro eu declaro minha variável\n",
        "x = 0\n",
        "\n",
        "# teste se é igual a um número\n",
        "print(f'teste 1: igualdade :{x == 1}')\n",
        "# teste se é diferente de um númer\n",
        "print(f'teste 2: diferença :{x != 1}') #  deve ser verdadeiro já que x=0\n",
        "# teste se é maior, maior ou igual\n",
        "print(f'teste 3: maior :{x > 1}')\n",
        "print(f'teste 4: maior ou igual :{x >= 1}')\n",
        "# teste se é menos, menos ou igual\n",
        "print(f'teste 5: menor :{x < 1}') #  deve ser verdadeiro já que x=0\n",
        "print(f'teste 6: menor ou igual :{x <= 1}') #  deve ser verdadeiro já que x=0\n"
      ],
      "execution_count": null,
      "outputs": []
    },
    {
      "cell_type": "code",
      "metadata": {
        "id": "K7TtHN2Xn3YG"
      },
      "source": [
        "# é possível ainda validar condicionantes em listas\n",
        "mycod = ['SAMBA001','SAMBA002','SAMBA003','SAMBA004']\n",
        "\n",
        "'SAMBA003' in mycod # o resultado deve ser True"
      ],
      "execution_count": null,
      "outputs": []
    },
    {
      "cell_type": "code",
      "metadata": {
        "id": "_w4zftZloKSj"
      },
      "source": [
        "# ou você pode declara uma variável Booleana (verdadeiro ou falso)\n",
        "estacao_completa = True\n",
        "pixel_valido = False"
      ],
      "execution_count": null,
      "outputs": []
    },
    {
      "cell_type": "code",
      "metadata": {
        "id": "lhosvHfIoenf"
      },
      "source": [
        "# Uma condição pode ser testada tanto de forma numérica quanto booleana\n",
        "\n",
        "# primeiro a numérica\n",
        "profundidade = 500\n",
        "\n",
        "if profundidade >100:\n",
        "  print('Aqui é Fundo')\n",
        "\n",
        "# ou várias condicionantes\n",
        "if profundidade < 100:\n",
        "  print('Raso')\n",
        "elif profundidade >= 100 and profundidade <= 700:\n",
        "  print('Fundo')\n",
        "else:\n",
        "  print('Muito fundo')\n"
      ],
      "execution_count": null,
      "outputs": []
    },
    {
      "cell_type": "code",
      "metadata": {
        "id": "pn2tJapxprWH"
      },
      "source": [
        "# agora a booleana\n",
        "\n",
        "estacao_completa = False\n",
        "if estacao_completa:\n",
        "  print('estação foi completa')\n",
        "else:\n",
        "  print('estação incompleta .. completando agora')\n",
        "  estacao_completa = True  # note que o que identifica o controle do if-else é a identação\n",
        "\n",
        "print(estacao_completa) # verifica se mudou de False para True"
      ],
      "execution_count": null,
      "outputs": []
    },
    {
      "cell_type": "markdown",
      "metadata": {
        "id": "htM-7r63qlzm"
      },
      "source": [
        "#Dicionários\n",
        "\n",
        "Os dicionários são listas de variáveis que armazenam conexões entre informações. Cada item de um dicionário é um par de valores-chave\n",
        "\n",
        "Veja os exemplos abaixo:\n"
      ]
    },
    {
      "cell_type": "code",
      "metadata": {
        "id": "oXZozMsdq1vA"
      },
      "source": [
        "# dicionário de culturas\n",
        "cultura = {'Nome':'Soja',\n",
        "           'Plantio':'Agosto',\n",
        "           'Rendimento':45}\n",
        "cultura"
      ],
      "execution_count": null,
      "outputs": []
    },
    {
      "cell_type": "code",
      "metadata": {
        "id": "iUEFbRDPznnh"
      },
      "source": [
        "# você pode ainda acrescentar mais valores.\n",
        "cultura['Colheita'] = 'Dezembro'\n",
        "cultura"
      ],
      "execution_count": null,
      "outputs": []
    },
    {
      "cell_type": "code",
      "metadata": {
        "id": "Szjc_QRz1rqP"
      },
      "source": [
        "# e ainda fazer um print de valores selecionados:\n",
        "print('A Cultura é '+cultura['Nome'] + ' com rendimento de '+ str(cultura['Rendimento']) + ' kg/ha')\n",
        "# note a conversão de um valor inteiro para string para o Rendimento"
      ],
      "execution_count": null,
      "outputs": []
    },
    {
      "cell_type": "code",
      "metadata": {
        "id": "gQHvH1F77h63"
      },
      "source": [
        "# note que você pode chamar 1 elemento do dicionário\n",
        "cultura['Colheita']"
      ],
      "execution_count": null,
      "outputs": []
    },
    {
      "cell_type": "markdown",
      "metadata": {
        "id": "SLyfc_rGG-Gy"
      },
      "source": [
        "Embora este conceito de dicionário seja bastante amplo, não perca muito seu tempo aprendendo sobre dicionarios já que há outra ferramenta muito mais poderosa chamada `pandas` (e que veremos em outra oportunidade).\n"
      ]
    },
    {
      "cell_type": "markdown",
      "metadata": {
        "id": "r_TzLqb0HR_x"
      },
      "source": [
        "#Laços de repetição (loops)\n",
        "\n",
        "Os laços são interações muito importantes no Python porque permitem que você programe um número grande de operações repetitivas. Essa é justamente a força de qualquer linguagem de programação.<br>\n",
        "\n",
        "Um laço do tipo `for` é usado para interagir dentro de uma sequência (ou seja, uma lista, uma tupla, um dicionário, um conjunto, etc etc). Outro tipo de laço é o `while`, também muito útil. Veja os exemplos abaixo."
      ]
    },
    {
      "cell_type": "code",
      "metadata": {
        "id": "iU6i1467LfB_"
      },
      "source": [
        "# for aplicado em uma lista. Primeiro, eu tenho que ter a lista !\n",
        "culturas = ['Soja','Milho','Café','Arroz']\n",
        "# veja o número de itens da sua lista\n",
        "len(culturas)\n",
        "\n",
        "# agora faça o laço 'for'\n",
        "for cultivo in culturas: # note que esta linha termina em \":\"\n",
        "  print(f'O cultivo é {cultivo}') # note que a identação desta linha é diferente\n",
        "\n",
        "# não há indicativo do final das operações do laço. Então, o controle é feito pela identação"
      ],
      "execution_count": null,
      "outputs": []
    },
    {
      "cell_type": "code",
      "metadata": {
        "id": "pQYJ8LeGMMwm"
      },
      "source": [
        "# o laço pode ser feito sobre caracteres em uma variável\n",
        "# e posso ainda contar dentro de um laço\n",
        "ic = 0\n",
        "for x in 'climatologicamente':\n",
        "  ic = ic+1\n",
        "  print(f'O caracter {ic} é {x}')"
      ],
      "execution_count": null,
      "outputs": []
    },
    {
      "cell_type": "code",
      "metadata": {
        "id": "s2jnW0MWMmq_"
      },
      "source": [
        "# você pode fazer o laço sobre uma faixa de valores\n",
        "print('Exemplo 1 *****************')\n",
        "for i in range(6):\n",
        "  print(f'Número {i}')\n",
        "# faça um experimento: apague o \":\" no final da linha do for e veja o erro que ele mostra (invalid sintax)\n",
        "\n",
        "print('Exemplo 2 *****************')\n",
        "# outro tipo de range\n",
        "for i in range(4,8):\n",
        "  print(f'Número {i}')\n",
        "\n",
        "print('Exemplo 3 *****************')\n",
        "# outro tipo de range (com float)\n",
        "import numpy as np  # note que para isso você precisa de uma biblioteca\n",
        "for i in np.arange(2.0,4.0,0.5): # entre 2 e 4, com step de 0.5\n",
        "  print(f'Número {i}')"
      ],
      "execution_count": null,
      "outputs": []
    },
    {
      "cell_type": "code",
      "metadata": {
        "id": "jy2CwnOrN7a0"
      },
      "source": [
        "# outro exemplo muito útil é você aplicar uma condição `if` nas operações\n",
        "for x in range(6): \n",
        "  if x == 3:       # note como o if é construido, a identação, e o \":\" no final do if e do else\n",
        "    print(\"--- passou pela metade\")\n",
        "  else:\n",
        "    print(f'A sequencia é {x}')"
      ],
      "execution_count": null,
      "outputs": []
    },
    {
      "cell_type": "code",
      "metadata": {
        "id": "Z7zBj6DlOlyj"
      },
      "source": [
        "# while simples - como aplicar em uma sequencia aberta\n",
        "contador = 1\n",
        "while contador < 5:  # modifique para \"<=\" para ver o que acontece\n",
        "  print(f'O número {contador} é menor do que 5')\n",
        "  contador += 1\n",
        "print(f'Acabei o laço com o contador igual à {contador}')"
      ],
      "execution_count": null,
      "outputs": []
    },
    {
      "cell_type": "code",
      "metadata": {
        "id": "hgS6k-quPFNU"
      },
      "source": [
        "# while - veja como condicionar a parada\n",
        "contador = 1\n",
        "while contador < 5:  # modifique para \"<=\" para ver o que acontece\n",
        "  print(f'O número {contador} é menor do que 5')\n",
        "  if contador == 3:\n",
        "    break            # nesse caso, eu quebrei a sequencia antes\n",
        "  contador += 1\n",
        "print(f'Acabei o laço com o contador igual à {contador}')"
      ],
      "execution_count": null,
      "outputs": []
    },
    {
      "cell_type": "markdown",
      "metadata": {
        "id": "bwpBjiAnPZfP"
      },
      "source": [
        "#Funções\n",
        "\n",
        "Funções são muito importantes ! porque você pode executar códigos ou tarefas específicas sobre um bloco de dados ou organizar funções repetitivas.<br>\n",
        "\n",
        "Note que um detalhe importante é você comentar BEM a sua função de forma que um usuário qualquer entenda o que você fez."
      ]
    },
    {
      "cell_type": "code",
      "metadata": {
        "id": "OK7imMiiQIRg"
      },
      "source": [
        "# um exemplo muito simples\n",
        "def adicione(a, b):\n",
        "  'Esta função é tão simples que não precisa de *contrato*'\n",
        "  'Um *contrato* é o texto que vai aqui logo depois do def e que indica o que essa rotina faz'\n",
        "  'criada por MeuNome em 2021 (por exemplo, para sabermos quem fez)'\n",
        "  result = a + b\n",
        "  return result\n",
        "\n",
        "# agora veja como posso chama-la\n",
        "soma = adicione(5, 7)\n",
        "print(f'O resultado é {soma}')\n",
        "# o resultado tem que ser 12"
      ],
      "execution_count": null,
      "outputs": []
    },
    {
      "cell_type": "code",
      "metadata": {
        "id": "V79wVIeXQygA"
      },
      "source": [
        "# uma função pode (deve?!) ser colocada em uma linha no colab para facilitar sua vida\n",
        "# não necessariamente você vai ter que chamá-la sempre.\n",
        "def find_numero_mais_alto(numbers):\n",
        "    'encontra o número mais alto'\n",
        "    highest = 0\n",
        "    for n in numbers:\n",
        "        if n > highest:\n",
        "            highest = n\n",
        "    return highest\n",
        "\n",
        "# note a estrutura de construção acima, identado e com os \":\" nos lugares certos\n",
        "# executando esta linha, a função já está definida."
      ],
      "execution_count": null,
      "outputs": []
    },
    {
      "cell_type": "code",
      "metadata": {
        "id": "7nBaKSswROeh"
      },
      "source": [
        "# agora criei uma lista com vários números e chamo a função\n",
        "scores = [21, 14, 72, 148, 54]\n",
        "top_score = find_numero_mais_alto(scores)\n",
        "\n",
        "print(f'O número mais alto é {top_score}')\n",
        "# O resultado deve ser 148"
      ],
      "execution_count": null,
      "outputs": []
    },
    {
      "cell_type": "markdown",
      "metadata": {
        "id": "35eBzR_qSIZj"
      },
      "source": [
        "Existe uma infinidade de coisas que você pode fazer com funções e acima estão as mais simples. Mas procure saber que você pode ainda usar parâmetros e argumentos (ou `*args`), palavras-chave (ou `keywords`), entre outras. Abaixo estão alguns exemplos. \n"
      ]
    },
    {
      "cell_type": "code",
      "metadata": {
        "id": "54I2T3hpSpXv"
      },
      "source": [
        "# Exemplo 1\n",
        "def tipo_cultivo(produtor, *args):\n",
        "    print(produtor, 'é o produtor')\n",
        "    for cultivo in culturas:\n",
        "        print(f'Cultivo: {cultivo}')"
      ],
      "execution_count": null,
      "outputs": []
    },
    {
      "cell_type": "code",
      "metadata": {
        "id": "vsc8UvXnTBmr"
      },
      "source": [
        "# note que o primeiro argumento é o host e os outros são os cultivos no exemplo acima.\n",
        "tipo_cultivo('Seu José', 'Milho', 'Soja', 'Feijão', 'Cana') "
      ],
      "execution_count": null,
      "outputs": []
    },
    {
      "cell_type": "code",
      "metadata": {
        "id": "6Z23cRHcUEid"
      },
      "source": [
        "def tabela_preços(produtor, **kwargs):\n",
        "    print(produtor, \"preços:\")\n",
        "    for key, value in kwargs.items():\n",
        "        print(key, value)"
      ],
      "execution_count": null,
      "outputs": []
    },
    {
      "cell_type": "markdown",
      "metadata": {
        "id": "QBDKq9MLURzF"
      },
      "source": [
        "`**kwargs` é semelhante a `*args`, exceto que é usado para dizer a uma função para aceitar qualquer número de argumentos de palavra-chave, que podem ser chamados assim:"
      ]
    },
    {
      "cell_type": "code",
      "metadata": {
        "id": "genypnPUUYaP"
      },
      "source": [
        "tabela_preços(\"Seu José\", milho=98, cana=250, soja=176)"
      ],
      "execution_count": null,
      "outputs": []
    },
    {
      "cell_type": "markdown",
      "metadata": {
        "id": "d30MXE0UUvHs"
      },
      "source": [
        "###Melhores Práticas\n",
        "####**Princípio de responsabilidade única**\n",
        "\n",
        "Você pode ter ouvido falar do princípio da responsabilidade única. Isso significa que suas funções devem se concentrar apenas em lidar com um **único** aspecto de seu programa.<br>\n",
        "\n",
        "Por exemplo, digamos que você queira escrever algum código que faça três coisas: buscar um dado na web, extrair dados da web e imprimir os dados no terminal. Você não escreveria uma função que extraísse os dados da página da web E imprimisse os resultados no terminal, porque talvez um dia você precise alterar seu código para salvar esses resultados em um arquivo ou enviá-los para outro programa.<br>\n",
        "\n",
        "Você pode notar que quebrar seu código em funções reutilizáveis ​​menores evita que ele se torne exponencialmente mais complicado e o mantém flexível para reutilização em sua base de código (e de outras pessoas).<br>\n",
        "####**Nomeando suas funções**\n",
        "Uma função bem nomeada deve quase ser lida como uma frase quando usada. Quando alguém está lendo o código, deve ser imediatamente óbvio o que está acontecendo no código. Uma boa regra é projetar e nomear sua função de forma que ela possa ser usada para simplificar um conjunto mais complexo de operações em uma única expressão. E **nunca use** nomes que confundam variáveis com funções ou que sejam idênticas à funções que já existem no python (por exemplo, a função `pi` no pacote `math`. Se você quiser ter seu próprio `pi`, use o nome `my_pi`)."
      ]
    },
    {
      "cell_type": "code",
      "metadata": {
        "id": "ytjJ2fERVt30"
      },
      "source": [
        "# seu pi\n",
        "import math\n",
        "print(f'O pi real é {math.pi}')\n",
        "\n",
        "def my_pi():\n",
        "  return(3.14)\n",
        "  \n",
        "print(f'O meu pi é {my_pi()}') "
      ],
      "execution_count": null,
      "outputs": []
    },
    {
      "cell_type": "markdown",
      "metadata": {
        "id": "hY6MCJ_SWyxX"
      },
      "source": [
        "#Imprimindo resultados\n",
        "\n",
        "Por último, e não menos importante, seguem algumas regras básicas para você imprimir resultados no seu terminal.<br>\n",
        "\n",
        "O comando `print` muda um pouco dependendo da versão do python e do ambiente que você está. A regra de ouro é *seja o mais simples possível*. Seguem alguns exemplos:"
      ]
    },
    {
      "cell_type": "code",
      "metadata": {
        "id": "4maHX-WnXe3T"
      },
      "source": [
        "print() # imprime \"nada\"\n",
        "print('\\n') # imprime uma nova linha\n",
        "print('') # imprime uma linha vazia\n",
        "message = 'imprime qualquer texto...'\n",
        "print(message)\n",
        "# um pouco mais complexo\n",
        "import math\n",
        "print('O valor e pi é ' + str(math.pi) + '(você sabia ?)') # note que pi é um número e print só trabalha com caracteres\n",
        "\n",
        "# imprimindo formatado\n",
        "print(f'O valor de pi é {math.pi}')\n",
        "print(f'ou arredondando {math.pi:.3f}') # note que arredondamos aqui para 3 casas decimais\n",
        "print(f'ou próximo de  {int(math.pi):d}') # note que arredondamos um float para um inteiro"
      ],
      "execution_count": null,
      "outputs": []
    },
    {
      "cell_type": "markdown",
      "metadata": {
        "id": "ESqo1npqYtub"
      },
      "source": [
        "####**Seja muito feliz com o Python !**"
      ]
    }
  ]
}