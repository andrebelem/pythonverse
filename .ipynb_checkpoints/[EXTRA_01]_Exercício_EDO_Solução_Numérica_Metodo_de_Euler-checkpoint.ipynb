{
 "cells": [
  {
   "cell_type": "markdown",
   "metadata": {
    "colab_type": "text",
    "id": "view-in-github"
   },
   "source": [
    "<a href=\"https://colab.research.google.com/github/andrebelem/ensino/blob/main/%5BEXTRA_01%5D_Exerc%C3%ADcio_EDO_Solu%C3%A7%C3%A3o_Num%C3%A9rica_Metodo_de_Euler.ipynb\" target=\"_parent\"><img src=\"https://colab.research.google.com/assets/colab-badge.svg\" alt=\"Open In Colab\"/></a>"
   ]
  },
  {
   "cell_type": "markdown",
   "metadata": {
    "id": "e97Yi7bo1yE9"
   },
   "source": [
    "![](http://observatoriooceanografico.org/wp-content/uploads/elementor/thumbs/logo-o2-2-p31vla9ib17i85olifd4l1xk0e5lktrkal6u0s4c6o.png)<br>\n",
    "# Notebook no Python para prática e resolução de EDO pelo método de Euler<br>\n",
    "\n",
    "Criado por [Y.C.L.F. Paoli](mailto:ypaoli@id.uff.br),  [M.G.C. Silva](mailto:marinagaldez@id.uff.br) @ [Observatório Oceanográfico](http://www.observatoiriooceanografico.uff.br) 2021 (versão 1) para a monitoria da disciplina de **Modelagem e Otimização de Sistemas Agrícolas e Ambientais**<br>\n",
    "[![DOI](https://zenodo.org/badge/342919527.svg)](https://zenodo.org/badge/latestdoi/342919527)\n",
    "<br>\n",
    "Você pode usar o Python para resolver EDOs. Talvez você precise relembrar os conceitos apresentados em aula e que estão no Guia Rápido (veja no canal do [Github](https://github.com/andrebelem/ensino)). <br>\n",
    "   \n",
    "Histórico:<br>\n",
    "Jun 2021: revisado e publicado no Github por [A.L.Belem](mailto:andrebelem@id.uff.br)<br>\n",
    "Ago 2022: mais algumas dicas adicionadas no markdown"
   ]
  },
  {
   "cell_type": "markdown",
   "metadata": {
    "id": "q81hrkOT1AJD"
   },
   "source": [
    "## Usando o método de Euler\n",
    "\n",
    "Uma solução de uma EDO é uma função $y = f(x)$  cujas derivadas satisfazem a equação. Mas lembre-se das aulas de cálculo - não está garantido que tal condição exista, e caso exista, normalmente ela não é única. Dessa forma, os coeficientes de uma equação diferencial podem ser constantes ou funções de uma variável independente. Esse é apenas um lembrete. O material na internet sobre isso é [bem farto](https://www.google.com/search?q=EDO+matem%C3%A1tica) (pode conferir). Mas vamos ao que interessa:<br>\n",
    "\n",
    "Imagine que você tem o seguinte Problema de Valor Inicial (P.V.I.) e agora vamos usar o Python de forma simples para você calcular as soluções (note que você pode fazer isso diretamente no colab). Basicamente o exercício aqui é identificar a equação, e entender de que forma ela é expressa na linguagem Python.<br>\n",
    "Veja esta equação:\n",
    "\n",
    "\\begin{cases}\n",
    "y'= f(x,y) = y - x       \\\\\n",
    "y(0) = 2  \n",
    "\\end{cases}\n",
    "Para x $\\in$  [0,1] e N = 4\n",
    "\n",
    "Note que em EDO, a solução numérica pelo Método de Euler é \n",
    "$y_{k+1} = y_k + h . f(x_k,y_k)$<br>\n",
    "<br>\n",
    "Neste exercício, vamos resolver essa P.V.I. com base no seu CPF. \n",
    "**Pegue o seu CPF**, separe os números em blocos de 3 algarismos. Use a somatoria dos 3 primeiros dígitos do seu CPF para x0 e dos 3 digitos do meio para y0 até chegar à 1 algarismo. Por exemplo, para o **CPF 321.654.987-90**:<br>\n",
    "$x_0 = 3+2+1 = $ **6** e $y_0 = 6+5+4 = $ 15 e na sequência $1+5: y_0 = $ **6**<br> (ou seja criativo !). \n",
    "\n"
   ]
  },
  {
   "cell_type": "code",
   "execution_count": 1,
   "metadata": {
    "id": "ynDpsDJ8sw-C"
   },
   "outputs": [],
   "source": [
    "# Primeiro passo: Definindo a EDO\n",
    "def f(x,y):\n",
    "  w = y - x\n",
    "  return w"
   ]
  },
  {
   "cell_type": "code",
   "execution_count": 2,
   "metadata": {
    "id": "piMEQTzUtBlQ"
   },
   "outputs": [],
   "source": [
    "# Segundo passo: Definir o P.V.I.\n",
    "x0 = 6\n",
    "y0 = 6"
   ]
  },
  {
   "cell_type": "code",
   "execution_count": 3,
   "metadata": {
    "id": "D1sD8_BYtPmw"
   },
   "outputs": [],
   "source": [
    "# Terceiro passo: Definir um intervalo (veja no enunciado acima)\n",
    "I = [0,1]"
   ]
  },
  {
   "cell_type": "code",
   "execution_count": 4,
   "metadata": {
    "id": "56mSFs6FtZ7n"
   },
   "outputs": [],
   "source": [
    "# Quarto passo: Definir o número de subintervalos\n",
    "N = 4"
   ]
  },
  {
   "cell_type": "code",
   "execution_count": 5,
   "metadata": {
    "id": "N4wG5VAJtjdW"
   },
   "outputs": [],
   "source": [
    "# Quinto passo: Calculando o passo da equação\n",
    "h = (I[1] - I[0])/N"
   ]
  },
  {
   "cell_type": "code",
   "execution_count": 6,
   "metadata": {
    "id": "pifFHlMxtymT",
    "scrolled": true
   },
   "outputs": [
    {
     "name": "stdout",
     "output_type": "stream",
     "text": [
      "y1 = 6.0\n",
      "y2 = 5.9375\n",
      "y3 = 5.796875\n",
      "y4 = 5.55859375\n"
     ]
    }
   ],
   "source": [
    "# Sexto passo: Calculando as interações de x\n",
    "for i in range(N):\n",
    "  yk = y0 + h*f(x0,y0)\n",
    "  print(f'y{i+1} = {yk}')\n",
    "  y0 = yk\n",
    "  x0 = x0 + h"
   ]
  },
  {
   "cell_type": "markdown",
   "metadata": {},
   "source": [
    "Agora pense assim: quais modificações no programa acima você pode fazer para melhorar essa discretização de y ? Pode mandar para nós via github ou email que ficaremos felizes de adicionar aqui."
   ]
  },
  {
   "cell_type": "markdown",
   "metadata": {
    "id": "grVWA7CfEm90"
   },
   "source": [
    "### Que tal um exercício extra ?<br>\n",
    "Resolva um problema de valor inicial envolvendo uma equação *não autônoma*, isto é, quando a função $f(t,u)$ depende explicitamente do tempo. Use passo $h=0,1$ e $h=0.01$. Depois compare com a solução exata dada por $u(t) = 2e^{-t} + t - 1$ nos intantes $t=0$,$t=1$, $t=2$ e $t=3$.\n",
    "\\begin{cases}\n",
    "u'(t) = -u(t) + y      \\\\\n",
    "u(0) = '  \n",
    "\\end{cases}\n",
    "\n"
   ]
  },
  {
   "cell_type": "markdown",
   "metadata": {
    "id": "HgnLbmsCFu7w"
   },
   "source": [
    "*insira seu código aqui*"
   ]
  },
  {
   "cell_type": "markdown",
   "metadata": {
    "id": "nRofnttgGAZf"
   },
   "source": [
    "-- **fim** --"
   ]
  }
 ],
 "metadata": {
  "colab": {
   "collapsed_sections": [],
   "include_colab_link": true,
   "name": "[EXTRA 01] Exercício_EDO_Solução_Numérica_Metodo_de_Euler.ipynb",
   "provenance": []
  },
  "kernelspec": {
   "display_name": "Python 3 (ipykernel)",
   "language": "python",
   "name": "python3"
  },
  "language_info": {
   "codemirror_mode": {
    "name": "ipython",
    "version": 3
   },
   "file_extension": ".py",
   "mimetype": "text/x-python",
   "name": "python",
   "nbconvert_exporter": "python",
   "pygments_lexer": "ipython3",
   "version": "3.10.2"
  }
 },
 "nbformat": 4,
 "nbformat_minor": 1
}
