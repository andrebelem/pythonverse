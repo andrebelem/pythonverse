{
  "nbformat": 4,
  "nbformat_minor": 0,
  "metadata": {
    "colab": {
      "provenance": [],
      "authorship_tag": "ABX9TyM9+T6c6RNCk6zls+WTktZK",
      "include_colab_link": true
    },
    "kernelspec": {
      "name": "python3",
      "display_name": "Python 3"
    },
    "language_info": {
      "name": "python"
    }
  },
  "cells": [
    {
      "cell_type": "markdown",
      "metadata": {
        "id": "view-in-github",
        "colab_type": "text"
      },
      "source": [
        "<a href=\"https://colab.research.google.com/github/andrebelem/pythonverse/blob/main/Por_que_usar_n%C3%BAmeros_complexos_para_processar_dados_de_corrente.ipynb\" target=\"_parent\"><img src=\"https://colab.research.google.com/assets/colab-badge.svg\" alt=\"Open In Colab\"/></a>"
      ]
    },
    {
      "cell_type": "markdown",
      "source": [
        "# Por que devo usar números complexos ?\n",
        "\n",
        "Este é um material complementar sobre a palestra [Técnicas em Python de análise de dados de corrente usando dados do SimCosta](https://github.com/andrebelem/pythonverse/blob/main/An%C3%A1lise_de_Dados_de_Corrente_%5BNortek_hackday%5D.ipynb) no Hackday da Nortek em julho de 2024.\n",
        "\n",
        "Tudo começou com esta imagem aqui:\n",
        "\n",
        "<center><img src='https://github.com/andrebelem/pythonverse/blob/main/images/Rotations_on_the_complex_plane.jpg?raw=true' height=200px' style='background-color:white;'></img></center>\n",
        "\n",
        "\n",
        "A imagem representa os ramos de uma função complexa, especificamente de uma raiz n-ésima de uma função complexa. Esses ramos são representados em um gráfico de **coordenadas polares** com círculos concêntricos e setas que mostram a direção do movimento ao longo dos ramos. Fonte: Kephir|Wikimedia Commons\n",
        "\n",
        "Essa é talvez a principal vantagem de usar um número complexo para representar um vetor, já que um número complexo $(a + i.b)$ é apenas a rotação de um número regular. E tem mais:\n",
        "\n",
        "- A *Rotação é fácilmente representada*, já que multiplicar um número complexo por *i* corresponde a uma rotação de 90 graus no plano complexo;\n",
        "- Além disso, temos *simplicidade algébrica*, já que as operações de adição, subtração e multiplicação de vetores (quando representados como números complexos) são mais diretas e elegantes do que usar coordenadas cartesianas (x, y). Por exemplo, a multiplicação de números complexos combina rotações e escalamentos em uma única operação;\n",
        "- Temos ainda uma *representação compacta*, já que podemos manter um array complexo (da forma $a+i.b$), que encapsula duas dimensões (real e imaginária), em uma única estrutura;\n",
        "- Mas e a matemática ? **Muito fácil de manipular**, especialmente se a sua manipulação envolve ondas e oscilações;\n",
        "- **Magnitude e Fase (ou direção)** é naturalmente representada por números complexos, o que é útil em muitas aplicações, como na análise de correntes na oceanografia.\n",
        "\n",
        "(Para saber mais de números complexos visite https://www.statisticshowto.com/calculus-problem-solving/complex-analysis/)."
      ],
      "metadata": {
        "id": "qGgIqIDtFiiE"
      }
    },
    {
      "cell_type": "markdown",
      "source": [
        "\n",
        "# Um pouco de prática vetorial e geometria\n",
        "\n",
        "Vamos imaginar a nossa figura abaixo, onde um vetor de magnitude 1, e azimute 45° (**em relação ao Norte = 0°**!) se decompõem nos vetores ortogonais *u* e *v* que tem o valor de $cos(45°)$ e $sin(45°)$ = $1/\\sqrt(2) \\approx 0.707$\n",
        "\n",
        "<center><img src='https://github.com/andrebelem/pythonverse/blob/main/images/Figuras Sobre projeções e rotações de vetores.jpg?raw=true' height=250px></img></center>\n",
        "\n",
        "(Note que por questões de precisão do ponto flutuante no Python, você verá muitas casas decimais no resultado!)"
      ],
      "metadata": {
        "id": "CUXvrMmOMyO4"
      }
    },
    {
      "cell_type": "code",
      "execution_count": 1,
      "metadata": {
        "id": "n2cMtxiLDjMO",
        "colab": {
          "base_uri": "https://localhost:8080/"
        },
        "outputId": "830c10b8-ce80-48cf-cb36-8167257ce94a"
      },
      "outputs": [
        {
          "output_type": "stream",
          "name": "stdout",
          "text": [
            "0.7071067811865476 0.7071067811865475\n"
          ]
        }
      ],
      "source": [
        "import numpy as np\n",
        "\n",
        "magnitude = 1.0 # magnitude\n",
        "direction = 45.0 # direção\n",
        "\n",
        "direction_radians = np.radians(direction)\n",
        "\n",
        "u,v  = np.array([magnitude * np.cos(direction_radians), magnitude * np.sin(direction_radians)])\n",
        "print(u,v)"
      ]
    },
    {
      "cell_type": "markdown",
      "source": [
        "Agora, eu posso transformar em um número complexo tanto com base em magnitude e direção, quanto com base nas componentes *u* e *v*, da seguinte forma:\n",
        "\n",
        "$z_{complex} = \\text{magnitude} \\times \\exp{(1j \\times \\text{direção})} $\n",
        "\n",
        "$z_{complex} = \\text{u} + 1j \\times \\text{v} $\n",
        "\n",
        "veja como podemos fazer:"
      ],
      "metadata": {
        "id": "Dtlc2yKsN2Dx"
      }
    },
    {
      "cell_type": "code",
      "source": [
        "complex_vec_1 = magnitude * np.exp(1j * direction_radians)\n",
        "print(complex_vec_1)"
      ],
      "metadata": {
        "colab": {
          "base_uri": "https://localhost:8080/"
        },
        "id": "j8Up7Gi_N2k3",
        "outputId": "8c2fe169-bf06-424f-d1a0-3992fb15df44"
      },
      "execution_count": 2,
      "outputs": [
        {
          "output_type": "stream",
          "name": "stdout",
          "text": [
            "(0.7071067811865476+0.7071067811865475j)\n"
          ]
        }
      ]
    },
    {
      "cell_type": "code",
      "source": [
        "complex_vec_2 = u + 1j * v\n",
        "print(complex_vec_2)"
      ],
      "metadata": {
        "colab": {
          "base_uri": "https://localhost:8080/"
        },
        "id": "m3wqOyHzOnFQ",
        "outputId": "b4b2461b-ccec-44f5-93d7-5889069d5f43"
      },
      "execution_count": 3,
      "outputs": [
        {
          "output_type": "stream",
          "name": "stdout",
          "text": [
            "(0.7071067811865476+0.7071067811865475j)\n"
          ]
        }
      ]
    },
    {
      "cell_type": "markdown",
      "source": [
        "O mais interessante desse tipo de transformação é que você pode facilmente decompor um vetor dado em magnitude e direção, em *u* e *v*, de forma direta, acessando a parte real e imaginária do vetor complexo (note que pode haver pequenas diferenças por precisão dos números de ponto flutuante):"
      ],
      "metadata": {
        "id": "L4j1t4BLQlvr"
      }
    },
    {
      "cell_type": "code",
      "source": [
        "print(f'mag/dir real:{np.real(complex_vec_1):.3f}  u:{u:.3f}')\n",
        "print(f'mag/dir imag:{np.imag(complex_vec_1):.3f}  v:{v:.3f}')"
      ],
      "metadata": {
        "colab": {
          "base_uri": "https://localhost:8080/"
        },
        "id": "te1oeytBSG6m",
        "outputId": "a076c82e-dd04-4eaf-ba2c-a864475fc1df"
      },
      "execution_count": 4,
      "outputs": [
        {
          "output_type": "stream",
          "name": "stdout",
          "text": [
            "mag/dir real:0.707  u:0.707\n",
            "mag/dir imag:0.707  v:0.707\n"
          ]
        }
      ]
    },
    {
      "cell_type": "markdown",
      "source": [
        "Vamos agora pegar o nosso `complex_vec_2`que foi obtido com *u* e *v*, e vamos extrair magnitude e direção ...."
      ],
      "metadata": {
        "id": "Qv9HB067KDa-"
      }
    },
    {
      "cell_type": "code",
      "source": [
        "import cmath # tenho que usar a biblioteca cmath\n",
        "\n",
        "# Calcular a magnitude\n",
        "mag_from_uv = abs(complex_vec_2)\n",
        "\n",
        "# Calcular a direção (ângulo)\n",
        "dir_from_uv = cmath.phase(complex_vec_2)\n",
        "\n",
        "# E o resultado é ...\n",
        "print(f\"A magnitude de {complex_vec_2:.3f} é: {mag_from_uv:.3f}\")\n",
        "print(f\"A direção (ângulo) de {complex_vec_2:.3f} é: {dir_from_uv:.3f} radianos ou {np.degrees(dir_from_uv):.3f} graus\")"
      ],
      "metadata": {
        "colab": {
          "base_uri": "https://localhost:8080/"
        },
        "id": "AUOp1NqFKNic",
        "outputId": "4827570c-2a7f-4e0e-8fd6-9a57c62e7623"
      },
      "execution_count": 5,
      "outputs": [
        {
          "output_type": "stream",
          "name": "stdout",
          "text": [
            "A magnitude de 0.707+0.707j é: 1.000\n",
            "A direção (ângulo) de 0.707+0.707j é: 0.785 radianos ou 45.000 graus\n"
          ]
        }
      ]
    },
    {
      "cell_type": "markdown",
      "source": [
        "Veja que aqui pegamos um vetor complexo construido com *u* e *v* (`complex_vec_2`) e convertemos para **magnitude** e **direção** SEM fazer operações complicadas trigonométricas !\n",
        "\n",
        "<center><img src='https://media1.tenor.com/m/O2ZgbQ--_XUAAAAC/spongebob-squarepants-spongebob.gif' height=100px></img></center>"
      ],
      "metadata": {
        "id": "tl33XcL9LFR2"
      }
    },
    {
      "cell_type": "markdown",
      "source": [
        "## Projeção ao longo de um azimute\n",
        "\n",
        "Imagine que você quer decompor seu vetor em uma orientação diferente da original (azimute 0° apontando para o Norte). Isso é muito útil quando queremos extrair um vetor *cross* e outro *along* uma orientação (da linha de costa, por exemplo). Com o vetor em complexo, você pode decompor em um eixo rotacionado por um azimute $\\theta$ com uma simples operação !\n",
        "\n",
        "Note que para provar isso, vou calular um azimute no mesmo ângulo do vetor original que usamos acima. Com isso, a componente $v_{rot}$ resultante **TEM** ser igual a zero e a componente $u_{rot}$ resultante **TEM** que ser igual à **magnitude do vetor original** (pura geometria!).... vamos lá:"
      ],
      "metadata": {
        "id": "dXEG_-AhTHmT"
      }
    },
    {
      "cell_type": "code",
      "source": [
        "theta = 45  # Azimute em graus\n",
        "\n",
        "# Converter theta de graus para radianos\n",
        "theta_rad = np.deg2rad(theta)\n",
        "\n",
        "# Calcular as componentes u (along) e v (cross) rotacionadas\n",
        "along_rot = complex_vec_1 * np.exp(-1j * theta_rad)\n",
        "cross_rot = complex_vec_1 * np.exp(1j * (theta_rad + np.pi/2))\n",
        "\n",
        "# Extrair as partes real e imaginária para obter as componentes u e v\n",
        "along = np.real(along_rot)\n",
        "cross = np.imag(cross_rot)\n",
        "\n",
        "print(f\"Componente along_rot: {along:.3f}\")\n",
        "print(f\"Componente cross_rot: {cross:.3f}\")"
      ],
      "metadata": {
        "colab": {
          "base_uri": "https://localhost:8080/"
        },
        "id": "hz0ufRIiTXQ9",
        "outputId": "af89f26e-7f54-487f-b0ae-201a9601a9bd"
      },
      "execution_count": 6,
      "outputs": [
        {
          "output_type": "stream",
          "name": "stdout",
          "text": [
            "Componente along_rot: 1.000\n",
            "Componente cross_rot: 0.000\n"
          ]
        }
      ]
    },
    {
      "cell_type": "markdown",
      "source": [
        "Pequenas diferenças podem aparecer devido à precisão dos números de ponto flutuante, mas isso é normal. Por isso estou formatando o resultado para arredondar com 3 casas decimais.\n",
        "\n",
        "Agora, veja abaixo que ao definir o azimute como 90 graus, as componentes *along* e *cross* se igualam aos valores das componentes *u* e *v* originais, porém com sinal invertido. Isso ocorre porque uma rotação de 90 graus (ou $\\pi/2$ radianos) efetivamente inverte a orientação dos eixos."
      ],
      "metadata": {
        "id": "VYOdQ8tOVnCz"
      }
    },
    {
      "cell_type": "code",
      "source": [
        "theta = 2*45  # Azimute em graus\n",
        "\n",
        "# Converter theta de graus para radianos\n",
        "theta_rad = np.deg2rad(theta)\n",
        "\n",
        "# Calcular as componentes u (along) e v (cross) rotacionadas\n",
        "along_rot = complex_vec_1 * np.exp(-1j * theta_rad)\n",
        "cross_rot = complex_vec_1 * np.exp(1j * (theta_rad + np.pi/2))\n",
        "\n",
        "# Extrair as partes real e imaginária para obter as componentes u e v\n",
        "along = np.real(along_rot)\n",
        "cross = np.imag(cross_rot)\n",
        "\n",
        "print(f\"Componente along_rot: {along:.3f}\")\n",
        "print(f\"Componente cross_rot: {cross:.3f}\")"
      ],
      "metadata": {
        "colab": {
          "base_uri": "https://localhost:8080/"
        },
        "id": "bnAhwKUwWD_G",
        "outputId": "15706b6c-f8a9-482a-fa6d-53e67d61d6e6"
      },
      "execution_count": 7,
      "outputs": [
        {
          "output_type": "stream",
          "name": "stdout",
          "text": [
            "Componente along_rot: 0.707\n",
            "Componente cross_rot: -0.707\n"
          ]
        }
      ]
    },
    {
      "cell_type": "markdown",
      "source": [
        "As fórmulas tradicionais com senos, cossenos e tangentes podem parecer coisa do passado. Hoje em dia, ao trabalhar com vetores, é muito mais simples e intuitivo usar números complexos.\n",
        "\n",
        "<center><img src='https://gifdb.com/images/high/spongebob-patrick-happy-celebration-d6lnwsquw2hhckxy.webp' height=100px></img></center>"
      ],
      "metadata": {
        "id": "n7e1v4vnN5P_"
      }
    },
    {
      "cell_type": "markdown",
      "source": [
        "# Mas...e a estatística ?\n",
        "\n",
        "Como podemos calcular um vetor médio com base em vários vetores na forma complexa ? Simples. Da mesma forma que calculamos qualquer média."
      ],
      "metadata": {
        "id": "QZkn8CJxOxAU"
      }
    },
    {
      "cell_type": "code",
      "source": [
        "# vou criar alguns vetores aleatórios....\n",
        "import numpy as np\n",
        "\n",
        "num_vetores = 10\n",
        "\n",
        "# Gerarndo magnitudes entre 0.5 e 1.2, e ângulos aleatórios entre 25° e 45°...\n",
        "magnitudes = np.random.uniform(0.5, 1.2, num_vetores)\n",
        "angles_rad = np.deg2rad(np.random.uniform(25, 45, num_vetores))\n",
        "\n",
        "# Criando vetores complexos\n",
        "vetores = magnitudes * np.exp(1j * angles_rad)\n",
        "vetores"
      ],
      "metadata": {
        "colab": {
          "base_uri": "https://localhost:8080/"
        },
        "id": "42r4O8A3PW4j",
        "outputId": "145875f4-5fb2-49c7-aee4-561d85652665"
      },
      "execution_count": 8,
      "outputs": [
        {
          "output_type": "execute_result",
          "data": {
            "text/plain": [
              "array([0.73699019+0.60213812j, 0.52802005+0.30420788j,\n",
              "       0.71483399+0.62722689j, 0.44354132+0.25208883j,\n",
              "       0.79820766+0.49751629j, 0.50202652+0.39813939j,\n",
              "       0.55136239+0.31665642j, 0.85947257+0.51745101j,\n",
              "       0.8863522 +0.48364571j, 0.40857507+0.32356827j])"
            ]
          },
          "metadata": {},
          "execution_count": 8
        }
      ]
    },
    {
      "cell_type": "code",
      "source": [
        "# agora, para eu tirar a média, basta somar, e dividir pelo número !\n",
        "\n",
        "vetor_medio = np.sum(vetores) / num_vetores\n",
        "vetor_medio"
      ],
      "metadata": {
        "colab": {
          "base_uri": "https://localhost:8080/"
        },
        "id": "EGvcUzyFRYYB",
        "outputId": "c06ae278-ac7d-4f60-d957-162d51f2b92d"
      },
      "execution_count": 9,
      "outputs": [
        {
          "output_type": "execute_result",
          "data": {
            "text/plain": [
              "(0.6429381944995093+0.4322638821224951j)"
            ]
          },
          "metadata": {},
          "execution_count": 9
        }
      ]
    },
    {
      "cell_type": "code",
      "source": [
        "import matplotlib.pyplot as plt\n",
        "\n",
        "# Extraindo as componentes reais e imaginárias na forma de U e V\n",
        "u = np.real(vetores)\n",
        "v = np.imag(vetores)\n",
        "u_medio = np.real(vetor_medio)\n",
        "v_medio = np.imag(vetor_medio)\n",
        "\n",
        "# Criado um gráfico quiver para mostrar a direção\n",
        "plt.figure()\n",
        "plt.quiver(np.zeros(num_vetores), np.zeros(num_vetores), u, v, angles='xy', scale_units='xy', scale=1, linewidth=0.5, color='blue', label='Vetores Individuais')\n",
        "plt.quiver(0, 0, u_medio, v_medio, angles='xy', scale_units='xy', scale=1, linewidth=1.5, color='red', label='Vetor Médio')\n",
        "plt.xlim(-0.2, 1.2)\n",
        "plt.ylim(-0.2, 1.2)\n",
        "plt.axhline(0, color='gray', lw=0.5)\n",
        "plt.axvline(0, color='gray', lw=0.5)\n",
        "plt.xlabel('u')\n",
        "plt.ylabel('v')\n",
        "plt.title('Meus Vetores Aleatórios')\n",
        "plt.legend()\n",
        "plt.show()"
      ],
      "metadata": {
        "colab": {
          "base_uri": "https://localhost:8080/",
          "height": 472
        },
        "id": "t3ib0KcQP7ye",
        "outputId": "08b3247c-56a4-4ed9-9079-c7ed41c1e85c"
      },
      "execution_count": 10,
      "outputs": [
        {
          "output_type": "display_data",
          "data": {
            "text/plain": [
              "<Figure size 640x480 with 1 Axes>"
            ],
            "image/png": "[encoded data removed]"
          },
          "metadata": {}
        }
      ]
    },
    {
      "cell_type": "markdown",
      "source": [
        "Note que uma simples operação de **SOMA** e divisão pelo número de vetores é suficiente para encontrar um vetor médio. Mas ..."
      ],
      "metadata": {
        "id": "NHmwQ7C7SKaa"
      }
    },
    {
      "cell_type": "code",
      "source": [
        "# você pode ainda usar normalmente as funções do numpy\n",
        "np.median(vetores)"
      ],
      "metadata": {
        "colab": {
          "base_uri": "https://localhost:8080/"
        },
        "id": "GU3ytm4tSdIJ",
        "outputId": "7f5edf30-0fb4-4bf3-f089-c5822760dd70"
      },
      "execution_count": 11,
      "outputs": [
        {
          "output_type": "execute_result",
          "data": {
            "text/plain": [
              "(0.6330981879377586+0.4719416553989719j)"
            ]
          },
          "metadata": {},
          "execution_count": 11
        }
      ]
    },
    {
      "cell_type": "markdown",
      "source": [
        "Divirta-se ! E qualquer dúvida, contate [andrebelem@id.uff.br](mailto:andrebelem@id.uff.br)."
      ],
      "metadata": {
        "id": "P-zvgBfBOR4S"
      }
    }
  ]
}