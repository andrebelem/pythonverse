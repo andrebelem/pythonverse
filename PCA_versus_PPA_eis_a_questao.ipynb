{
 "cells": [
  {
   "cell_type": "markdown",
   "id": "73283c52",
   "metadata": {},
   "source": [
    "# Em construção\n",
    "Este material é um aprofundamento do TDS de Steve Driscoll em https://towardsdatascience.com/interesting-projections-where-pca-fails-fe64ddca73e6 e a tentativa de pythonizar o SPPA que está distribuido aqui https://github.com/S-Driscoll/SparseProjectionPursuit e no paper https://pubs.acs.org/doi/full/10.1021/acs.analchem.9b03166\n",
    "\n",
    "Note que esta pode ser uma excelente alternativa à PCA para exploração de dados.\n",
    "\n",
    "\n",
    "# Motivação\n",
    "\n",
    "O que acontece quando a PCA (Principal Component Analysis) falha ? Em ciência de dados, a análise de componentes principais (PCA) é usada como ferramenta de análise exploratória. Há uma enorme lista de referências e tutoriais por ai **(colocar alguns)**. Nessa exploração, normalmente usamos a PCA para reduzir variáveis na esperança de revelar correlações úteis mantendo uma quantidade de variância explicada razoável em nossos dados, por exemplo, revelando um grupo de variáveis climáticas que se relacionam com a produtividade de uma cultura agrícola (basicamente a velha história de de causa-efeito). A PCA faz isso encontrando vetores de projeção ortogonal que respondem pela **máximo de variancia nos dados**.\n",
    "\n",
    "(adicionar aquela história dos vetores e de álgebra básica).\n",
    "\n",
    "Na prática, isso geralmente é feito usando o método de **decomposição de valor singular** (ou SVD, para ficar mais fácil de encontrar) de forma a encontrar os componentes principais (vetores próprios ou *autovetores*) ponderados por sua contribuição (valores próprios ou *autovalores*) para a variância total dos dados. Esse é o início de tudo ! Sem dúvida, a PCA é a ferramenta de análise de dados mais utilizada na área de *Big Data* e a porta de entrada para aprendizado de máquina (*Machine Learning* ou ML), já que você tem que conhecer BEM seus dados.\n",
    "\n",
    "\n",
    "Mas o que acontece quando isso não funciona? Ou seja, você tem uma enorme mancha dispersa de pontos no espaço de variância e praticamente tem vetores apontando para todas as direções ? Isso significa que a fonte de dados é ruim ? Na verdade, não. Isso significa que não há informações úteis nos dados? Também não. \n",
    "\n",
    "Uma alternativa desenvolvida pelo grupo de **Steve Driscoll** da Dalhousie University chama-se *Projection Pursuit Analysis* ou em uma tradução livre - Análise de Perseguição de Projeção (PPA).\n",
    "\n",
    "![](https://miro.medium.com/max/657/1*60Xk6DFB7OwcZYMkM9veyA.png)\n",
    "\n",
    "## tirando leite de pedras\n",
    "\n"
   ]
  },
  {
   "cell_type": "code",
   "execution_count": null,
   "id": "ee34a488",
   "metadata": {},
   "outputs": [],
   "source": []
  }
 ],
 "metadata": {
  "kernelspec": {
   "display_name": "Python 3 (ipykernel)",
   "language": "python",
   "name": "python3"
  },
  "language_info": {
   "codemirror_mode": {
    "name": "ipython",
    "version": 3
   },
   "file_extension": ".py",
   "mimetype": "text/x-python",
   "name": "python",
   "nbconvert_exporter": "python",
   "pygments_lexer": "ipython3",
   "version": "3.10.2"
  }
 },
 "nbformat": 4,
 "nbformat_minor": 5
}
