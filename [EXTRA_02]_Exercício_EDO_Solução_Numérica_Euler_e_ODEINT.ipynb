{
  "nbformat": 4,
  "nbformat_minor": 0,
  "metadata": {
    "colab": {
      "name": "[EXTRA 02] Exercício_EDO_Solução_Numérica_Euler_e_ODEINT.ipynb",
      "provenance": [],
      "collapsed_sections": [],
      "include_colab_link": true
    },
    "kernelspec": {
      "name": "python3",
      "display_name": "Python 3"
    },
    "language_info": {
      "name": "python"
    }
  },
  "cells": [
    {
      "cell_type": "markdown",
      "metadata": {
        "id": "view-in-github",
        "colab_type": "text"
      },
      "source": [
        "<a href=\"https://colab.research.google.com/github/andrebelem/ensino/blob/main/%5BEXTRA_02%5D_Exerc%C3%ADcio_EDO_Solu%C3%A7%C3%A3o_Num%C3%A9rica_Euler_e_ODEINT.ipynb\" target=\"_parent\"><img src=\"https://colab.research.google.com/assets/colab-badge.svg\" alt=\"Open In Colab\"/></a>"
      ]
    },
    {
      "cell_type": "markdown",
      "metadata": {
        "id": "e97Yi7bo1yE9"
      },
      "source": [
        "![](http://observatoriooceanografico.org/wp-content/uploads/elementor/thumbs/logo-o2-2-p31vla9ib17i85olifd4l1xk0e5lktrkal6u0s4c6o.png)<br>\n",
        "# Notebook no Python para prática e resolução de EDO pelo método de Euler e comparação com um *solver* (`odeint`) <br>\n",
        "\n",
        "Criado por [Y.C.L.F. Paoli](mailto:ypaoli@id.uff.br),  [M.G.C. Silva](mailto:marinagaldez@id.uff.br) @ [Observatório Oceanográfico](http://www.observatoiriooceanografico.uff.br) 2021 (versão 1) para a monitoria da disciplina de **Modelagem e Otimização de Sistemas Agrícolas e Ambientais**<br>\n",
        "[![DOI](https://zenodo.org/badge/342919527.svg)](https://zenodo.org/badge/latestdoi/342919527)\n",
        "<br>\n",
        "Você pode usar o Python para resolver EDOs usando agora um solver. Talvez você precise relembrar os conceitos apresentados em aula e que estão no Guia Rápido (veja no canal do [Github](https://github.com/andrebelem/ensino)). <br>\n",
        "   \n",
        "Histórico:<br>\n",
        "Jun 2021: revisado e publicado no Github por [A.L.Belem](mailto:andrebelem@id.uff.br)<br>\n",
        "   "
      ]
    },
    {
      "cell_type": "markdown",
      "metadata": {
        "id": "0zJKgUDo2Wos"
      },
      "source": [
        "(relembrando) Uma solução de uma EDO é uma função $y = f(x)$  cujas derivadas satisfazem a equação. Mas cautela - não está garantido que tal função exista, e caso exista, normalmente ela não é única. Quando falamos de coeficientes, uma equação diferencial pode ter coeficientes constantes ou funções da variável independente. Esse é apenas um lembrete. O material na internet sobre isso é [bem farto](https://www.google.com/search?q=EDO+matem%C3%A1tica) (pode conferir). Mas vamos ao que interessa:<br>\n",
        "\n",
        "**Calcule** a solução aproximada do seguinte Problema de Valor Inicial (P.V.I.) usando Python simples (note que você pode fazer isso diretamente no colab).\n",
        "\\begin{cases}\n",
        "y'= f(y,t) = y + 2 t       \\\\\n",
        "y(0) = 1  \n",
        "\\end{cases}\n",
        "\n",
        "Note que em EDO, a solução numérica pelo Método de Euler é \n",
        "$y_{k+1} = y_k + h . f(x_k,y_k)$. Para essa equação, a solução exata é $y = 3. e^t - 2(t + 1)$<br>\n",
        "<br>\n",
        "\n",
        "Além da solução, neste exercício vamos plotar os resultados e usar algums pacotes acessórios, o `numpy` e o `matplotlib`."
      ]
    },
    {
      "cell_type": "code",
      "metadata": {
        "id": "P6wcFHnzeqEk"
      },
      "source": [
        "# primeiro, importe os pacotes\n",
        "import numpy as np\n",
        "import matplotlib.pyplot as plt"
      ],
      "execution_count": null,
      "outputs": []
    },
    {
      "cell_type": "code",
      "metadata": {
        "id": "dIWvos7qeqak"
      },
      "source": [
        "# Vamos definir a equação em uma função EDO\n",
        "\n",
        "def f(y,t):\n",
        "    dy = y + 2*t\n",
        "    return dy"
      ],
      "execution_count": null,
      "outputs": []
    },
    {
      "cell_type": "code",
      "metadata": {
        "id": "VZ706H4xffAQ"
      },
      "source": [
        "# definição dos parâmetros do método de Euler\n",
        "# definimos aqui o passo de tempo. => teste diferentes passos (0.1, 0.01, ...)\n",
        "h = 0.1 \n",
        "tmax = 2 # t máximo igual a 2 significa que o cálculo será feito entre t=0 e t=2, isto é, tmax = último valor de t\n",
        "# essa função gera vários valores de t entre 0 e tmax, separados por um passo=h, que serão colocados no array t\n",
        "t = np.arange(0, tmax+h, h) "
      ],
      "execution_count": null,
      "outputs": []
    },
    {
      "cell_type": "markdown",
      "metadata": {
        "id": "-8ZucXvbgCBc"
      },
      "source": [
        "Obs: O *passo* é a distância entre dois valores consecutivos da variável $x$ (neste caso, $t$), isto é, \n",
        "$h = t_{n+1} - t_{n}$<br>\n",
        "Note que não estamos definindo uma unidade de tempo (segundos ou horas ou dias) porque isso é intrínsico na sua equação. É a equação que define o tempo. Veja o gráfico abaixo<br>\n",
        "<center><img src=\"https://drive.google.com/uc?id=1ZtuexbeNkz_scTGkqgZeFtghcnrfuvQl\" width=\"400\"></img></center>"
      ]
    },
    {
      "cell_type": "code",
      "metadata": {
        "id": "NYa_5CbDiolI"
      },
      "source": [
        "# condição inicial\n",
        "y0 = 1"
      ],
      "execution_count": null,
      "outputs": []
    },
    {
      "cell_type": "code",
      "metadata": {
        "id": "ojfMhsP-i7_0"
      },
      "source": [
        "#Solução usando Euler\n",
        "\n",
        "y_euler = np.zeros_like(t) # essa função cria um vetor composto por zeros do mesmo tamanho do vetor t\n",
        "y_euler[0] = y0 # define que o primeiro valor do vetor será igual à condição inicial, isto é, o y0.\n",
        "for n in range (t.size-1): # t.size dá o tamanho do array t\n",
        "    y_euler[n+1] = y_euler[n] + h * f(y_euler[n], t[n])\n"
      ],
      "execution_count": null,
      "outputs": []
    },
    {
      "cell_type": "code",
      "metadata": {
        "id": "TlqUhgHMlOfO"
      },
      "source": [
        "#solução exata\n",
        "yexato = 3 * np.exp(t) - 2 * (t + 1)"
      ],
      "execution_count": null,
      "outputs": []
    },
    {
      "cell_type": "code",
      "metadata": {
        "colab": {
          "base_uri": "https://localhost:8080/",
          "height": 281
        },
        "id": "1-kauQpEkb91",
        "outputId": "b911094c-3b55-454b-e7c3-fd211793232b"
      },
      "source": [
        "# Vamos colocar a solução exata em um gráfico (lembre que lá em cima você deu o import)\n",
        "plt.figure()\n",
        "plt.title('')\n",
        "plt.xlabel(f'$t$')\n",
        "plt.ylabel(f'$y(t)$')\n",
        "plt.plot(t, yexato, 'b', label='Sol. Exata')\n",
        "plt.plot(t, y_euler, 'ro', markersize=5, label='Método de Euler')\n",
        "plt.legend()\n",
        "plt.show()"
      ],
      "execution_count": null,
      "outputs": [
        {
          "output_type": "display_data",
          "data": {
            "image/png": "[encoded data removed]",
            "text/plain": [
              "<Figure size 432x288 with 1 Axes>"
            ]
          },
          "metadata": {
            "tags": [],
            "needs_background": "light"
          }
        }
      ]
    },
    {
      "cell_type": "markdown",
      "metadata": {
        "id": "p0aG-zYHXIgk"
      },
      "source": [
        "Por que a diferença entre a solução exata e a solução pelo método de Euler aumenta com o tempo ? (resposta está nas suas aulas de EDO !)."
      ]
    },
    {
      "cell_type": "markdown",
      "metadata": {
        "id": "q81hrkOT1AJD"
      },
      "source": [
        "### Usando um `solver` (ODEINT)\n",
        "\n",
        "Para calcular a mesma solução aproximada do seguinte Problema de Valor Inicial (P.V.I.) podemos usar agora um solver. Note que as condições iniciais são as mesmas:\n",
        "\\begin{cases}\n",
        "y'= f(y,t) = y + 2 t       \\\\\n",
        "y(0) = 1  \n",
        "\\end{cases}\n",
        "\n",
        "A diferença aqui é que usamos um solver do módulo `scipy.integrate`, conhecido como `spi` (veja em no [SciPy.org](https://docs.scipy.org/doc/scipy/reference/tutorial/integrate.html) onde há vários métodos disponíveis)."
      ]
    },
    {
      "cell_type": "code",
      "metadata": {
        "id": "Z2irsbhf1nvX"
      },
      "source": [
        "import numpy as np\n",
        "import matplotlib.pyplot as plt\n",
        "import scipy.integrate as spi"
      ],
      "execution_count": null,
      "outputs": []
    },
    {
      "cell_type": "code",
      "metadata": {
        "id": "9QijTtzlmgMD"
      },
      "source": [
        "#definição da EDO\n",
        "\n",
        "def f(y,t):\n",
        "    dy = y + 2*t\n",
        "    return dy"
      ],
      "execution_count": null,
      "outputs": []
    },
    {
      "cell_type": "code",
      "metadata": {
        "id": "gbobBrt0hTLL"
      },
      "source": [
        "# definição dos parâmetros do iniciais\n",
        "# *** note que estamos fazendo aqui de novo mas não seria necessário caso você já tivesse rodado a mesma linha com essas definições.\n",
        "h = 0.1 \n",
        "tmax = 2 # t máximo igual a 2 significa que o cálculo será feito entre t=0 e t=2, isto é, tmax = último valor de t\n",
        "# essa função gera vários valores de t entre 0 e tmax, separados por um passo=h, que serão colocados no array t\n",
        "t = np.arange(0, tmax+h, h) "
      ],
      "execution_count": null,
      "outputs": []
    },
    {
      "cell_type": "code",
      "metadata": {
        "id": "2Sf8jFVdhTmY"
      },
      "source": [
        "#condição inicial\n",
        "y0 = 1"
      ],
      "execution_count": null,
      "outputs": []
    },
    {
      "cell_type": "code",
      "metadata": {
        "id": "DWg7u5izhlrv"
      },
      "source": [
        "#Solução usando o odeint\n",
        "\n",
        "y_solver = spi.odeint(f, y0, t) #integra a equação diferencial e salva no array y"
      ],
      "execution_count": null,
      "outputs": []
    },
    {
      "cell_type": "code",
      "metadata": {
        "id": "OcMkuIodiEl6"
      },
      "source": [
        "# solução exata\n",
        "yexato = 3 * np.exp(t) - 2 * (t + 1)"
      ],
      "execution_count": null,
      "outputs": []
    },
    {
      "cell_type": "code",
      "metadata": {
        "colab": {
          "base_uri": "https://localhost:8080/",
          "height": 281
        },
        "id": "H78nw8gMiJxi",
        "outputId": "b1889095-a629-4f6e-ba3b-c68436ffa08f"
      },
      "source": [
        "# gráfico aqui (você pode explorar ainda elementos do gráfico para mudar a configuração dos pontos, cores das linhas, etc.)\n",
        "plt.figure()\n",
        "plt.title('')\n",
        "plt.xlabel(f'$t$')\n",
        "plt.ylabel(f'$y(t)$')\n",
        "plt.plot(t, yexato, 'b', label='Sol. exata')\n",
        "plt.plot(t, y_solver, 'go', markersize=5, label='solver odeint')\n",
        "plt.legend()\n",
        "plt.show()"
      ],
      "execution_count": null,
      "outputs": [
        {
          "output_type": "display_data",
          "data": {
            "image/png": "[encoded data removed]",
            "text/plain": [
              "<Figure size 432x288 with 1 Axes>"
            ]
          },
          "metadata": {
            "tags": [],
            "needs_background": "light"
          }
        }
      ]
    },
    {
      "cell_type": "code",
      "metadata": {
        "colab": {
          "base_uri": "https://localhost:8080/",
          "height": 390
        },
        "id": "PQJd2t2fagmU",
        "outputId": "85dd7f8f-9ec6-47bf-a972-b3d14209666b"
      },
      "source": [
        "# vamos ainda colocar um gráfico do lado do outro para facilitar (note os comandos para fazer isso)\n",
        "fig, ax = plt.subplots(1,2,figsize=(16,6)) # note que ax[0] sera 1 gráfico e ax[1] o outro e você pode controlar o tamanho do gráfico\n",
        "\n",
        "# Euler\n",
        "\n",
        "ax[0].plot(t, yexato, 'b', label='Sol. Exata')\n",
        "ax[0].plot(t, y_euler, 'ro', markersize=5, label='Método de Euler')\n",
        "ax[0].legend()\n",
        "\n",
        "\n",
        "# odeint\n",
        "ax[1].plot(t, yexato, 'b', label='Sol. Exata')\n",
        "ax[1].plot(t, y_solver, 'go', markersize=5, label='Solver odeint')\n",
        "ax[1].legend()\n",
        "\n",
        "for myax in ax: # como temos 2 eixos, faz um laço para escrever o label em cada um deles\n",
        "    myax.set(xlabel=f'$t$', ylabel=f'$y(t)$')\n",
        "\n",
        "fig.show()"
      ],
      "execution_count": null,
      "outputs": [
        {
          "output_type": "display_data",
          "data": {
            "image/png": "[encoded data removed]",
            "text/plain": [
              "<Figure size 1152x432 with 2 Axes>"
            ]
          },
          "metadata": {
            "tags": [],
            "needs_background": "light"
          }
        }
      ]
    },
    {
      "cell_type": "markdown",
      "metadata": {
        "id": "sL2Djs2Hieqy"
      },
      "source": [
        "Observando o gráfico, é possível ver que utilizando o mesmo passo (h=0.1) na função `odeint`, o resultado é muito mais preciso do que utilizando o método de Euler. Você pode ainda explorar outros solvers no [SciPy](https://docs.scipy.org/doc/scipy/reference/integrate.html). Mas agora responda:<br>\n",
        "Nas soluções numéricas de equações diferenciais, o que é a **rigidez** ?<br>\n",
        "<br>\n",
        "A rigidez é caracterizada pela existência de duas ou mais escalas distintas para a variável independente e os problemas de valor inicial com equações rígidas são relativamente comuns, particularmente no estudo de ecossistemas e reações biogeoquímicas. Neste caso, outros métodos numéricos podem ser explorados. Você pode pesquisar isso e ver os tutoriais no próprio site do [SciPy.org](https://docs.scipy.org/doc/scipy/reference/integrate.html).\n",
        "\n"
      ]
    },
    {
      "cell_type": "markdown",
      "metadata": {
        "id": "xX5yyvyHaJCp"
      },
      "source": [
        "--**fim** --"
      ]
    }
  ]
}