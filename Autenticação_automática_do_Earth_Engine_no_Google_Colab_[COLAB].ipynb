{
  "nbformat": 4,
  "nbformat_minor": 0,
  "metadata": {
    "colab": {
      "provenance": [],
      "authorship_tag": "ABX9TyNfzoXdAYYGrLZeugX4PqQQ",
      "include_colab_link": true
    },
    "kernelspec": {
      "name": "python3",
      "display_name": "Python 3"
    },
    "language_info": {
      "name": "python"
    },
    "widgets": {
      "application/vnd.jupyter.widget-state+json": {
        "996eea5a71334578a022a388f76bfd81": {
          "model_module": "jupyter-leaflet",
          "model_name": "LeafletMapModel",
          "model_module_version": "^0.18",
          "state": {
            "_dom_classes": [],
            "_model_module": "jupyter-leaflet",
            "_model_module_version": "^0.18",
            "_model_name": "LeafletMapModel",
            "_view_count": null,
            "_view_module": "jupyter-leaflet",
            "_view_module_version": "^0.18",
            "_view_name": "LeafletMapView",
            "bottom": 9485852,
            "bounce_at_zoom_limits": true,
            "box_zoom": true,
            "center": [
              -22.9044,
              -43.131559
            ],
            "close_popup_on_click": true,
            "controls": [
              "IPY_MODEL_37f5b79701da4ab2ab51ba5c4270af4a",
              "IPY_MODEL_a46dc026221e4679b28a60399296bb0e",
              "IPY_MODEL_1f2a94e88af74394b0271b0f71d80d2b",
              "IPY_MODEL_af9db94353b04d0786da8d91db89cb65",
              "IPY_MODEL_263a29d91a8c4775904674c4e40e3ca2",
              "IPY_MODEL_ca2a9b12919d4541817ec38984171ba6",
              "IPY_MODEL_536f62dd226046e09a8f902ee17ec8a0",
              "IPY_MODEL_a568cf01dc4e4971a60b397338bb9ac0"
            ],
            "crs": {
              "name": "EPSG3857",
              "custom": false
            },
            "default_style": "IPY_MODEL_ed2cb493deaa4be2ad728ff455917d59",
            "double_click_zoom": true,
            "dragging": true,
            "dragging_style": "IPY_MODEL_dd62b3267bcb4e23989db0ea399e098c",
            "east": -43.125114440917976,
            "fullscreen": false,
            "inertia": true,
            "inertia_deceleration": 3000,
            "inertia_max_speed": 1500,
            "interpolation": "bilinear",
            "keyboard": true,
            "keyboard_pan_offset": 80,
            "keyboard_zoom_offset": 1,
            "layers": [
              "IPY_MODEL_851e52b8675a41c8a888f85dbbbeaa1e",
              "IPY_MODEL_be6a4bc2beb7415ea725b11092dcdd61"
            ],
            "layout": "IPY_MODEL_1e17caf490ee49c9be2805a17e715ad1",
            "left": 6378232,
            "max_zoom": 24,
            "min_zoom": null,
            "modisdate": "2024-03-28",
            "north": -22.900450538900195,
            "options": [
              "bounce_at_zoom_limits",
              "box_zoom",
              "center",
              "close_popup_on_click",
              "double_click_zoom",
              "dragging",
              "fullscreen",
              "inertia",
              "inertia_deceleration",
              "inertia_max_speed",
              "interpolation",
              "keyboard",
              "keyboard_pan_offset",
              "keyboard_zoom_offset",
              "max_zoom",
              "min_zoom",
              "prefer_canvas",
              "scroll_wheel_zoom",
              "tap",
              "tap_tolerance",
              "touch_zoom",
              "world_copy_jump",
              "zoom",
              "zoom_animation_threshold",
              "zoom_delta",
              "zoom_snap"
            ],
            "panes": {},
            "prefer_canvas": false,
            "right": 6378832,
            "scroll_wheel_zoom": true,
            "south": -22.90835687992534,
            "style": "IPY_MODEL_efb8bbbeaa9f4ffd942cad419f1b0d88",
            "tap": true,
            "tap_tolerance": 15,
            "top": 9485452,
            "touch_zoom": true,
            "west": -43.13798904418946,
            "window_url": "https://4p1zer8kmj5-496ff2e9c6d22116-0-colab.googleusercontent.com/outputframe.html?vrz=colab_20240328-060159_RC01_620078024",
            "world_copy_jump": false,
            "zoom": 16,
            "zoom_animation_threshold": 4,
            "zoom_delta": 1,
            "zoom_snap": 1
          }
        },
        "37f5b79701da4ab2ab51ba5c4270af4a": {
          "model_module": "jupyter-leaflet",
          "model_name": "LeafletWidgetControlModel",
          "model_module_version": "^0.18",
          "state": {
            "_model_module": "jupyter-leaflet",
            "_model_module_version": "^0.18",
            "_model_name": "LeafletWidgetControlModel",
            "_view_count": null,
            "_view_module": "jupyter-leaflet",
            "_view_module_version": "^0.18",
            "_view_name": "LeafletWidgetControlView",
            "max_height": null,
            "max_width": null,
            "min_height": null,
            "min_width": null,
            "options": [
              "position",
              "transparent_bg"
            ],
            "position": "topleft",
            "transparent_bg": false,
            "widget": "IPY_MODEL_2bf9ffc83ce043f192a77d3b1a9cc65d"
          }
        },
        "a46dc026221e4679b28a60399296bb0e": {
          "model_module": "jupyter-leaflet",
          "model_name": "LeafletZoomControlModel",
          "model_module_version": "^0.18",
          "state": {
            "_model_module": "jupyter-leaflet",
            "_model_module_version": "^0.18",
            "_model_name": "LeafletZoomControlModel",
            "_view_count": null,
            "_view_module": "jupyter-leaflet",
            "_view_module_version": "^0.18",
            "_view_name": "LeafletZoomControlView",
            "options": [
              "position",
              "zoom_in_text",
              "zoom_in_title",
              "zoom_out_text",
              "zoom_out_title"
            ],
            "position": "topleft",
            "zoom_in_text": "+",
            "zoom_in_title": "Zoom in",
            "zoom_out_text": "-",
            "zoom_out_title": "Zoom out"
          }
        },
        "1f2a94e88af74394b0271b0f71d80d2b": {
          "model_module": "jupyter-leaflet",
          "model_name": "LeafletFullScreenControlModel",
          "model_module_version": "^0.18",
          "state": {
            "_model_module": "jupyter-leaflet",
            "_model_module_version": "^0.18",
            "_model_name": "LeafletFullScreenControlModel",
            "_view_count": null,
            "_view_module": "jupyter-leaflet",
            "_view_module_version": "^0.18",
            "_view_name": "LeafletFullScreenControlView",
            "options": [
              "position"
            ],
            "position": "topleft"
          }
        },
        "af9db94353b04d0786da8d91db89cb65": {
          "model_module": "jupyter-leaflet",
          "model_name": "LeafletDrawControlModel",
          "model_module_version": "^0.18",
          "state": {
            "_model_module": "jupyter-leaflet",
            "_model_module_version": "^0.18",
            "_model_name": "LeafletDrawControlModel",
            "_view_count": null,
            "_view_module": "jupyter-leaflet",
            "_view_module_version": "^0.18",
            "_view_name": "LeafletDrawControlView",
            "circle": {},
            "circlemarker": {},
            "data": [],
            "edit": true,
            "marker": {
              "shapeOptions": {
                "color": "#3388ff"
              }
            },
            "options": [
              "position"
            ],
            "polygon": {
              "shapeOptions": {}
            },
            "polyline": {
              "shapeOptions": {}
            },
            "position": "topleft",
            "rectangle": {
              "shapeOptions": {
                "color": "#3388ff"
              }
            },
            "remove": true
          }
        },
        "263a29d91a8c4775904674c4e40e3ca2": {
          "model_module": "jupyter-leaflet",
          "model_name": "LeafletScaleControlModel",
          "model_module_version": "^0.18",
          "state": {
            "_model_module": "jupyter-leaflet",
            "_model_module_version": "^0.18",
            "_model_name": "LeafletScaleControlModel",
            "_view_count": null,
            "_view_module": "jupyter-leaflet",
            "_view_module_version": "^0.18",
            "_view_name": "LeafletScaleControlView",
            "imperial": true,
            "max_width": 100,
            "metric": true,
            "options": [
              "imperial",
              "max_width",
              "metric",
              "position",
              "update_when_idle"
            ],
            "position": "bottomleft",
            "update_when_idle": false
          }
        },
        "ca2a9b12919d4541817ec38984171ba6": {
          "model_module": "jupyter-leaflet",
          "model_name": "LeafletMeasureControlModel",
          "model_module_version": "^0.18",
          "state": {
            "_custom_units": {},
            "_model_module": "jupyter-leaflet",
            "_model_module_version": "^0.18",
            "_model_name": "LeafletMeasureControlModel",
            "_view_count": null,
            "_view_module": "jupyter-leaflet",
            "_view_module_version": "^0.18",
            "_view_name": "LeafletMeasureControlView",
            "active_color": "orange",
            "capture_z_index": 10000,
            "completed_color": "#C8F2BE",
            "options": [
              "active_color",
              "capture_z_index",
              "completed_color",
              "popup_options",
              "position",
              "primary_area_unit",
              "primary_length_unit",
              "secondary_area_unit",
              "secondary_length_unit"
            ],
            "popup_options": {
              "className": "leaflet-measure-resultpopup",
              "autoPanPadding": [
                10,
                10
              ]
            },
            "position": "bottomleft",
            "primary_area_unit": "acres",
            "primary_length_unit": "kilometers",
            "secondary_area_unit": null,
            "secondary_length_unit": null
          }
        },
        "536f62dd226046e09a8f902ee17ec8a0": {
          "model_module": "jupyter-leaflet",
          "model_name": "LeafletWidgetControlModel",
          "model_module_version": "^0.18",
          "state": {
            "_model_module": "jupyter-leaflet",
            "_model_module_version": "^0.18",
            "_model_name": "LeafletWidgetControlModel",
            "_view_count": null,
            "_view_module": "jupyter-leaflet",
            "_view_module_version": "^0.18",
            "_view_name": "LeafletWidgetControlView",
            "max_height": null,
            "max_width": null,
            "min_height": null,
            "min_width": null,
            "options": [
              "position",
              "transparent_bg"
            ],
            "position": "topright",
            "transparent_bg": false,
            "widget": "IPY_MODEL_a0d9021cb61442b3ae3aa8d436df6db5"
          }
        },
        "a568cf01dc4e4971a60b397338bb9ac0": {
          "model_module": "jupyter-leaflet",
          "model_name": "LeafletAttributionControlModel",
          "model_module_version": "^0.18",
          "state": {
            "_model_module": "jupyter-leaflet",
            "_model_module_version": "^0.18",
            "_model_name": "LeafletAttributionControlModel",
            "_view_count": null,
            "_view_module": "jupyter-leaflet",
            "_view_module_version": "^0.18",
            "_view_name": "LeafletAttributionControlView",
            "options": [
              "position",
              "prefix"
            ],
            "position": "bottomright",
            "prefix": "ipyleaflet"
          }
        },
        "ed2cb493deaa4be2ad728ff455917d59": {
          "model_module": "jupyter-leaflet",
          "model_name": "LeafletMapStyleModel",
          "model_module_version": "^0.18",
          "state": {
            "_model_module": "jupyter-leaflet",
            "_model_module_version": "^0.18",
            "_model_name": "LeafletMapStyleModel",
            "_view_count": null,
            "_view_module": "@jupyter-widgets/base",
            "_view_module_version": "1.2.0",
            "_view_name": "StyleView",
            "cursor": "grab"
          }
        },
        "dd62b3267bcb4e23989db0ea399e098c": {
          "model_module": "jupyter-leaflet",
          "model_name": "LeafletMapStyleModel",
          "model_module_version": "^0.18",
          "state": {
            "_model_module": "jupyter-leaflet",
            "_model_module_version": "^0.18",
            "_model_name": "LeafletMapStyleModel",
            "_view_count": null,
            "_view_module": "@jupyter-widgets/base",
            "_view_module_version": "1.2.0",
            "_view_name": "StyleView",
            "cursor": "move"
          }
        },
        "851e52b8675a41c8a888f85dbbbeaa1e": {
          "model_module": "jupyter-leaflet",
          "model_name": "LeafletTileLayerModel",
          "model_module_version": "^0.18",
          "state": {
            "_model_module": "jupyter-leaflet",
            "_model_module_version": "^0.18",
            "_model_name": "LeafletTileLayerModel",
            "_view_count": null,
            "_view_module": "jupyter-leaflet",
            "_view_module_version": "^0.18",
            "_view_name": "LeafletTileLayerView",
            "attribution": "&copy; <a href=\"https://www.openstreetmap.org/copyright\">OpenStreetMap</a> contributors",
            "base": true,
            "bottom": true,
            "bounds": null,
            "detect_retina": false,
            "loading": false,
            "max_native_zoom": null,
            "max_zoom": 19,
            "min_native_zoom": null,
            "min_zoom": 1,
            "name": "OpenStreetMap.Mapnik",
            "no_wrap": false,
            "opacity": 1,
            "options": [
              "attribution",
              "bounds",
              "detect_retina",
              "max_native_zoom",
              "max_zoom",
              "min_native_zoom",
              "min_zoom",
              "no_wrap",
              "tile_size",
              "tms",
              "zoom_offset"
            ],
            "pane": "",
            "popup": null,
            "popup_max_height": null,
            "popup_max_width": 300,
            "popup_min_width": 50,
            "show_loading": false,
            "subitems": [],
            "tile_size": 256,
            "tms": false,
            "url": "https://tile.openstreetmap.org/{z}/{x}/{y}.png",
            "visible": true,
            "zoom_offset": 0
          }
        },
        "be6a4bc2beb7415ea725b11092dcdd61": {
          "model_module": "jupyter-leaflet",
          "model_name": "LeafletTileLayerModel",
          "model_module_version": "^0.18",
          "state": {
            "_model_module": "jupyter-leaflet",
            "_model_module_version": "^0.18",
            "_model_name": "LeafletTileLayerModel",
            "_view_count": null,
            "_view_module": "jupyter-leaflet",
            "_view_module_version": "^0.18",
            "_view_name": "LeafletTileLayerView",
            "attribution": "Esri",
            "base": false,
            "bottom": true,
            "bounds": null,
            "detect_retina": false,
            "loading": false,
            "max_native_zoom": null,
            "max_zoom": 24,
            "min_native_zoom": null,
            "min_zoom": 0,
            "name": "Esri.WorldImagery",
            "no_wrap": false,
            "opacity": 1,
            "options": [
              "attribution",
              "bounds",
              "detect_retina",
              "max_native_zoom",
              "max_zoom",
              "min_native_zoom",
              "min_zoom",
              "no_wrap",
              "tile_size",
              "tms",
              "zoom_offset"
            ],
            "pane": "",
            "popup": null,
            "popup_max_height": null,
            "popup_max_width": 300,
            "popup_min_width": 50,
            "show_loading": false,
            "subitems": [],
            "tile_size": 256,
            "tms": false,
            "url": "https://server.arcgisonline.com/ArcGIS/rest/services/World_Imagery/MapServer/tile/{z}/{y}/{x}",
            "visible": true,
            "zoom_offset": 0
          }
        },
        "1e17caf490ee49c9be2805a17e715ad1": {
          "model_module": "@jupyter-widgets/base",
          "model_name": "LayoutModel",
          "model_module_version": "1.2.0",
          "state": {
            "_model_module": "@jupyter-widgets/base",
            "_model_module_version": "1.2.0",
            "_model_name": "LayoutModel",
            "_view_count": null,
            "_view_module": "@jupyter-widgets/base",
            "_view_module_version": "1.2.0",
            "_view_name": "LayoutView",
            "align_content": null,
            "align_items": null,
            "align_self": null,
            "border": null,
            "bottom": null,
            "display": null,
            "flex": null,
            "flex_flow": null,
            "grid_area": null,
            "grid_auto_columns": null,
            "grid_auto_flow": null,
            "grid_auto_rows": null,
            "grid_column": null,
            "grid_gap": null,
            "grid_row": null,
            "grid_template_areas": null,
            "grid_template_columns": null,
            "grid_template_rows": null,
            "height": "400px",
            "justify_content": null,
            "justify_items": null,
            "left": null,
            "margin": null,
            "max_height": null,
            "max_width": null,
            "min_height": null,
            "min_width": null,
            "object_fit": null,
            "object_position": null,
            "order": null,
            "overflow": null,
            "overflow_x": null,
            "overflow_y": null,
            "padding": null,
            "right": null,
            "top": null,
            "visibility": null,
            "width": "600px"
          }
        },
        "efb8bbbeaa9f4ffd942cad419f1b0d88": {
          "model_module": "jupyter-leaflet",
          "model_name": "LeafletMapStyleModel",
          "model_module_version": "^0.18",
          "state": {
            "_model_module": "jupyter-leaflet",
            "_model_module_version": "^0.18",
            "_model_name": "LeafletMapStyleModel",
            "_view_count": null,
            "_view_module": "@jupyter-widgets/base",
            "_view_module_version": "1.2.0",
            "_view_name": "StyleView",
            "cursor": "grab"
          }
        },
        "2bf9ffc83ce043f192a77d3b1a9cc65d": {
          "model_module": "@jupyter-widgets/controls",
          "model_name": "HBoxModel",
          "model_module_version": "1.5.0",
          "state": {
            "_dom_classes": [
              "geemap-colab"
            ],
            "_model_module": "@jupyter-widgets/controls",
            "_model_module_version": "1.5.0",
            "_model_name": "HBoxModel",
            "_view_count": null,
            "_view_module": "@jupyter-widgets/controls",
            "_view_module_version": "1.5.0",
            "_view_name": "HBoxView",
            "box_style": "",
            "children": [
              "IPY_MODEL_bc5d98669f1e4719a9ccce3d24c81d6b"
            ],
            "layout": "IPY_MODEL_d1203cc0bc6046a8ac568c70423ae2e4"
          }
        },
        "a0d9021cb61442b3ae3aa8d436df6db5": {
          "model_module": "@jupyter-widgets/controls",
          "model_name": "VBoxModel",
          "model_module_version": "1.5.0",
          "state": {
            "_dom_classes": [
              "geemap-colab"
            ],
            "_model_module": "@jupyter-widgets/controls",
            "_model_module_version": "1.5.0",
            "_model_name": "VBoxModel",
            "_view_count": null,
            "_view_module": "@jupyter-widgets/controls",
            "_view_module_version": "1.5.0",
            "_view_name": "VBoxView",
            "box_style": "",
            "children": [
              "IPY_MODEL_5b8900278e4b405cba78156369764d3b"
            ],
            "layout": "IPY_MODEL_fed750448d4e4c01bc96249088e649d1"
          }
        },
        "bc5d98669f1e4719a9ccce3d24c81d6b": {
          "model_module": "@jupyter-widgets/controls",
          "model_name": "ToggleButtonModel",
          "model_module_version": "1.5.0",
          "state": {
            "_dom_classes": [],
            "_model_module": "@jupyter-widgets/controls",
            "_model_module_version": "1.5.0",
            "_model_name": "ToggleButtonModel",
            "_view_count": null,
            "_view_module": "@jupyter-widgets/controls",
            "_view_module_version": "1.5.0",
            "_view_name": "ToggleButtonView",
            "button_style": "",
            "description": "",
            "description_tooltip": null,
            "disabled": false,
            "icon": "globe",
            "layout": "IPY_MODEL_d5b2aee1c66c4c9bb64675d275920090",
            "style": "IPY_MODEL_b803d2ce4bcf4b4583ad0860efed9572",
            "tooltip": "Search location/data",
            "value": false
          }
        },
        "d1203cc0bc6046a8ac568c70423ae2e4": {
          "model_module": "@jupyter-widgets/base",
          "model_name": "LayoutModel",
          "model_module_version": "1.2.0",
          "state": {
            "_model_module": "@jupyter-widgets/base",
            "_model_module_version": "1.2.0",
            "_model_name": "LayoutModel",
            "_view_count": null,
            "_view_module": "@jupyter-widgets/base",
            "_view_module_version": "1.2.0",
            "_view_name": "LayoutView",
            "align_content": null,
            "align_items": null,
            "align_self": null,
            "border": null,
            "bottom": null,
            "display": null,
            "flex": null,
            "flex_flow": null,
            "grid_area": null,
            "grid_auto_columns": null,
            "grid_auto_flow": null,
            "grid_auto_rows": null,
            "grid_column": null,
            "grid_gap": null,
            "grid_row": null,
            "grid_template_areas": null,
            "grid_template_columns": null,
            "grid_template_rows": null,
            "height": null,
            "justify_content": null,
            "justify_items": null,
            "left": null,
            "margin": null,
            "max_height": null,
            "max_width": null,
            "min_height": null,
            "min_width": null,
            "object_fit": null,
            "object_position": null,
            "order": null,
            "overflow": null,
            "overflow_x": null,
            "overflow_y": null,
            "padding": null,
            "right": null,
            "top": null,
            "visibility": null,
            "width": null
          }
        },
        "5b8900278e4b405cba78156369764d3b": {
          "model_module": "@jupyter-widgets/controls",
          "model_name": "ToggleButtonModel",
          "model_module_version": "1.5.0",
          "state": {
            "_dom_classes": [],
            "_model_module": "@jupyter-widgets/controls",
            "_model_module_version": "1.5.0",
            "_model_name": "ToggleButtonModel",
            "_view_count": null,
            "_view_module": "@jupyter-widgets/controls",
            "_view_module_version": "1.5.0",
            "_view_name": "ToggleButtonView",
            "button_style": "",
            "description": "",
            "description_tooltip": null,
            "disabled": false,
            "icon": "wrench",
            "layout": "IPY_MODEL_309f2d45c82b4d6cbe9f7b1c7db76e61",
            "style": "IPY_MODEL_934bcad91c764ffcb7e9548b2c3311ed",
            "tooltip": "Toolbar",
            "value": false
          }
        },
        "fed750448d4e4c01bc96249088e649d1": {
          "model_module": "@jupyter-widgets/base",
          "model_name": "LayoutModel",
          "model_module_version": "1.2.0",
          "state": {
            "_model_module": "@jupyter-widgets/base",
            "_model_module_version": "1.2.0",
            "_model_name": "LayoutModel",
            "_view_count": null,
            "_view_module": "@jupyter-widgets/base",
            "_view_module_version": "1.2.0",
            "_view_name": "LayoutView",
            "align_content": null,
            "align_items": null,
            "align_self": null,
            "border": null,
            "bottom": null,
            "display": null,
            "flex": null,
            "flex_flow": null,
            "grid_area": null,
            "grid_auto_columns": null,
            "grid_auto_flow": null,
            "grid_auto_rows": null,
            "grid_column": null,
            "grid_gap": null,
            "grid_row": null,
            "grid_template_areas": null,
            "grid_template_columns": null,
            "grid_template_rows": null,
            "height": null,
            "justify_content": null,
            "justify_items": null,
            "left": null,
            "margin": null,
            "max_height": null,
            "max_width": null,
            "min_height": null,
            "min_width": null,
            "object_fit": null,
            "object_position": null,
            "order": null,
            "overflow": null,
            "overflow_x": null,
            "overflow_y": null,
            "padding": null,
            "right": null,
            "top": null,
            "visibility": null,
            "width": null
          }
        },
        "d5b2aee1c66c4c9bb64675d275920090": {
          "model_module": "@jupyter-widgets/base",
          "model_name": "LayoutModel",
          "model_module_version": "1.2.0",
          "state": {
            "_model_module": "@jupyter-widgets/base",
            "_model_module_version": "1.2.0",
            "_model_name": "LayoutModel",
            "_view_count": null,
            "_view_module": "@jupyter-widgets/base",
            "_view_module_version": "1.2.0",
            "_view_name": "LayoutView",
            "align_content": null,
            "align_items": null,
            "align_self": null,
            "border": null,
            "bottom": null,
            "display": null,
            "flex": null,
            "flex_flow": null,
            "grid_area": null,
            "grid_auto_columns": null,
            "grid_auto_flow": null,
            "grid_auto_rows": null,
            "grid_column": null,
            "grid_gap": null,
            "grid_row": null,
            "grid_template_areas": null,
            "grid_template_columns": null,
            "grid_template_rows": null,
            "height": "28px",
            "justify_content": null,
            "justify_items": null,
            "left": null,
            "margin": null,
            "max_height": null,
            "max_width": null,
            "min_height": null,
            "min_width": null,
            "object_fit": null,
            "object_position": null,
            "order": null,
            "overflow": null,
            "overflow_x": null,
            "overflow_y": null,
            "padding": "0px 0px 0px 4px",
            "right": null,
            "top": null,
            "visibility": null,
            "width": "28px"
          }
        },
        "b803d2ce4bcf4b4583ad0860efed9572": {
          "model_module": "@jupyter-widgets/controls",
          "model_name": "DescriptionStyleModel",
          "model_module_version": "1.5.0",
          "state": {
            "_model_module": "@jupyter-widgets/controls",
            "_model_module_version": "1.5.0",
            "_model_name": "DescriptionStyleModel",
            "_view_count": null,
            "_view_module": "@jupyter-widgets/base",
            "_view_module_version": "1.2.0",
            "_view_name": "StyleView",
            "description_width": ""
          }
        },
        "309f2d45c82b4d6cbe9f7b1c7db76e61": {
          "model_module": "@jupyter-widgets/base",
          "model_name": "LayoutModel",
          "model_module_version": "1.2.0",
          "state": {
            "_model_module": "@jupyter-widgets/base",
            "_model_module_version": "1.2.0",
            "_model_name": "LayoutModel",
            "_view_count": null,
            "_view_module": "@jupyter-widgets/base",
            "_view_module_version": "1.2.0",
            "_view_name": "LayoutView",
            "align_content": null,
            "align_items": null,
            "align_self": null,
            "border": null,
            "bottom": null,
            "display": null,
            "flex": null,
            "flex_flow": null,
            "grid_area": null,
            "grid_auto_columns": null,
            "grid_auto_flow": null,
            "grid_auto_rows": null,
            "grid_column": null,
            "grid_gap": null,
            "grid_row": null,
            "grid_template_areas": null,
            "grid_template_columns": null,
            "grid_template_rows": null,
            "height": "28px",
            "justify_content": null,
            "justify_items": null,
            "left": null,
            "margin": null,
            "max_height": null,
            "max_width": null,
            "min_height": null,
            "min_width": null,
            "object_fit": null,
            "object_position": null,
            "order": null,
            "overflow": null,
            "overflow_x": null,
            "overflow_y": null,
            "padding": "0px 0px 0px 4px",
            "right": null,
            "top": null,
            "visibility": null,
            "width": "28px"
          }
        },
        "934bcad91c764ffcb7e9548b2c3311ed": {
          "model_module": "@jupyter-widgets/controls",
          "model_name": "DescriptionStyleModel",
          "model_module_version": "1.5.0",
          "state": {
            "_model_module": "@jupyter-widgets/controls",
            "_model_module_version": "1.5.0",
            "_model_name": "DescriptionStyleModel",
            "_view_count": null,
            "_view_module": "@jupyter-widgets/base",
            "_view_module_version": "1.2.0",
            "_view_name": "StyleView",
            "description_width": ""
          }
        }
      }
    }
  },
  "cells": [
    {
      "cell_type": "markdown",
      "metadata": {
        "id": "view-in-github",
        "colab_type": "text"
      },
      "source": [
        "<a href=\"https://colab.research.google.com/github/andrebelem/pythonverse/blob/main/Autentica%C3%A7%C3%A3o_autom%C3%A1tica_do_Earth_Engine_no_Google_Colab_%5BCOLAB%5D.ipynb\" target=\"_parent\"><img src=\"https://colab.research.google.com/assets/colab-badge.svg\" alt=\"Open In Colab\"/></a>"
      ]
    },
    {
      "cell_type": "markdown",
      "source": [
        "<div style=\"display: flex; align-items: center;\">\n",
        "    <img src=\"http://observatoriooceanografico.org/wp-content/uploads/elementor/thumbs/logo-o2-2-p31vla9ib17i85olifd4l1xk0e5lktrkal6u0s4c6o.png\" style=\"width: 100px;\"/>\n",
        "    <h1 style=\"margin-left: 20px;\">Autenticação automática do Earth Engine</h1>\n",
        "</div>\n",
        "\n",
        "Criado por [A.L. Belém](mailto:andrebelem@id.uff.br) @ [Observatório Oceanográfico](http://www.observatoiriooceanografico.uff.br) 2024 (versão 1) <br>\n",
        "> Comentário: ainda não incluido no repositório do ZENODO\n",
        ">[![DOI](https://zenodo.org/badge/342919527.svg)](https://zenodo.org/badge/latestdoi/342919527)\n",
        "\n",
        "###### Última atualização: 30 de Março de 2024.\n",
        "<br>\n",
        "Esse notebook foi construido para auxiliar nas tarefas de automatização do uso do Google Colab e do Earth Engine, além de testar algumas das possibilidades do Geemap para construção de mapas. Não é necessário saber todo o código de cabeça, mas ao menos você pode usar esse notebook para \"copiar\" algumas soluções quando for necessário.<br>\n",
        "\n",
        "Para uso no Google Colab. Se você usar o `ee` localmente, tenha o `geemap` e o `ee` instalado.\n",
        "\n",
        "## Credencial gravada do earthengine\n",
        "\n",
        "Para fazer solicitações ao Earth Engine por meio de uma biblioteca de cliente, é necessário autenticar e inicializar o cliente do Earth Engine com as credenciais resultantes. **Note** que se você nunca usou o Earth Engine, você deve se credenciar para o seu uso primeiro. Veja aqui https://developers.google.com/earth-engine/guides/getstarted para maiores detalhes.\n",
        "\n",
        "**Passo 1**: Localizando o Token do Earth Engine\n",
        "\n",
        "- Localize o token do Earth Engine em seu computador navegando até o seguinte caminho de arquivo com base em seu sistema operacional:\n",
        "\n",
        "Windows: `C:\\Usuários\\NOME_DE_USUÁRIO.config\\earthengine\\credentials`<br>\n",
        "Linux: `/home/NOME_DE_USUÁRIO/.config/earthengine/credentials`<br>\n",
        "MacOS: `/Usuários/NOME_DE_USUÁRIO/.config/earthengine/credentials`<br>\n",
        "\n",
        "- Abra o arquivo de credenciais e copie todo o conteúdo para a área de transferência. O formato desse arquivo é uma chave de acesso da forma:<br>\n",
        "```\n",
        "{\"client_id\": \"XXXXXXXXXXXXXXXXXXXXXXXXXXXX.apps.googleusercontent.com\",\n",
        " \"client_secret\": \"XXXXXXXXXXXXXXXXXXXXXXXXX\",\n",
        " \"refresh_token\":\"1//XXXXXXXXXXXXXXXXXXXXXXXXXXXXXXXXXXXXXXXXXXX\",\n",
        " \"scopes\": [\"https://www.googleapis.com/auth/earthengine\",\n",
        " \"https://www.googleapis.com/auth/devstorage.full_control\"]}\n",
        "```\n",
        "(obviamente onde `X` é uma sequência única *sua*). **Nota**: Certifique-se de não compartilhar o conteúdo do arquivo de credenciais com outras pessoas para evitar o acesso não autorizado à sua conta do Earth Engine. Portanto, se você está colocando o seu notebook público (por exemplo, no Github), certifique-se de que você não está colocando junto as suas credenciais (!).\n",
        "\n",
        "\n",
        "\n",
        "**Passo 2**: Criando o Segredo no Google Colab\n",
        "- Abra o seu notebook do Google Colab e clique na aba \"secrets\" 🔑 (segredos), que fica do lado esquerdo, no símbolo de uma chave. <br>\n",
        "- Crie um novo segredo com o nome EARTHENGINE_TOKEN. <br>\n",
        "- Cole o conteúdo da área de transferência na caixa de entrada \"Valor\" do segredo criado. <br>\n",
        "- Ative o botão à esquerda para permitir o acesso do notebook ao segredo. <br>\n",
        "\n",
        "\n",
        "\n",
        "**Passo 3***: Instalando a Versão Necessária do geemap\n",
        "- Certifique-se de ter instalado a versão 0.29.3 ou posterior do geemap, pois apenas essas versões suportam o recurso de autenticação automática. Você pode fazer isso com a célula abaixo. Se o Geemap for antigo ou não estiver instalado, faça isso com `%pip install -U geemap`"
      ],
      "metadata": {
        "id": "TUNSV0uJjeqV"
      }
    },
    {
      "cell_type": "code",
      "execution_count": 1,
      "metadata": {
        "colab": {
          "base_uri": "https://localhost:8080/",
          "height": 35
        },
        "id": "mWt0wk6EjWEf",
        "outputId": "7abd2c04-e12a-4ba3-f570-d854c4ca3a95"
      },
      "outputs": [
        {
          "output_type": "stream",
          "name": "stdout",
          "text": [
            "0.32.0\n"
          ]
        }
      ],
      "source": [
        "import geemap\n",
        "\n",
        "print(geemap.__version__)"
      ]
    },
    {
      "cell_type": "markdown",
      "source": [
        "Agora é só usar o `geemap` que irá autenticar automaticamente o EARTHENGINE_TOKEN no seu Google Colab notebook. Por exemplo, o código abaixo, ao rodar pela primeira vez na sua instância do google colab, irá solicitar acesso.\n",
        "- clique sobre o link que vai aparecer, e autorize o uso da sua conta.\n",
        "- copie o token individual gerado e cole sobre o espaço indicado\n",
        "\n",
        "**PRONTO** ! Já pode aproveitar toda o poder do Earth Engine !"
      ],
      "metadata": {
        "id": "AdPxS4MArWdk"
      }
    },
    {
      "cell_type": "code",
      "source": [
        "import geemap\n",
        "\n",
        "# Coordenadas do campus Praia Vermelha da UFF em Niterói, RJ\n",
        "latitude = -22.90440\n",
        "longitude = -43.131559\n",
        "\n",
        "# Criar o mapa com zoom 15 e centrado nas coordenadas especificadas, e o basemap de satélite\n",
        "map = geemap.Map(center=[latitude, longitude], zoom=16, layout={'height': '400px', 'width': '600px'})\n",
        "map.add_basemap('SATELLITE')\n",
        "# Mostrar o mapa\n",
        "map"
      ],
      "metadata": {
        "colab": {
          "base_uri": "https://localhost:8080/",
          "height": 589,
          "referenced_widgets": [
            "996eea5a71334578a022a388f76bfd81",
            "37f5b79701da4ab2ab51ba5c4270af4a",
            "a46dc026221e4679b28a60399296bb0e",
            "1f2a94e88af74394b0271b0f71d80d2b",
            "af9db94353b04d0786da8d91db89cb65",
            "263a29d91a8c4775904674c4e40e3ca2",
            "ca2a9b12919d4541817ec38984171ba6",
            "536f62dd226046e09a8f902ee17ec8a0",
            "a568cf01dc4e4971a60b397338bb9ac0",
            "ed2cb493deaa4be2ad728ff455917d59",
            "dd62b3267bcb4e23989db0ea399e098c",
            "851e52b8675a41c8a888f85dbbbeaa1e",
            "be6a4bc2beb7415ea725b11092dcdd61",
            "1e17caf490ee49c9be2805a17e715ad1",
            "efb8bbbeaa9f4ffd942cad419f1b0d88",
            "2bf9ffc83ce043f192a77d3b1a9cc65d",
            "a0d9021cb61442b3ae3aa8d436df6db5",
            "bc5d98669f1e4719a9ccce3d24c81d6b",
            "d1203cc0bc6046a8ac568c70423ae2e4",
            "5b8900278e4b405cba78156369764d3b",
            "fed750448d4e4c01bc96249088e649d1",
            "d5b2aee1c66c4c9bb64675d275920090",
            "b803d2ce4bcf4b4583ad0860efed9572",
            "309f2d45c82b4d6cbe9f7b1c7db76e61",
            "934bcad91c764ffcb7e9548b2c3311ed"
          ]
        },
        "id": "cMiahhEzrip5",
        "outputId": "b735c39b-a100-408a-ea9d-bd554e455c7c"
      },
      "execution_count": 2,
      "outputs": [
        {
          "output_type": "display_data",
          "data": {
            "text/plain": [
              "<IPython.core.display.HTML object>"
            ],
            "text/html": [
              "\n",
              "            <style>\n",
              "                .geemap-dark {\n",
              "                    --jp-widgets-color: white;\n",
              "                    --jp-widgets-label-color: white;\n",
              "                    --jp-ui-font-color1: white;\n",
              "                    --jp-layout-color2: #454545;\n",
              "                    background-color: #383838;\n",
              "                }\n",
              "\n",
              "                .geemap-dark .jupyter-button {\n",
              "                    --jp-layout-color3: #383838;\n",
              "                }\n",
              "\n",
              "                .geemap-colab {\n",
              "                    background-color: var(--colab-primary-surface-color, white);\n",
              "                }\n",
              "\n",
              "                .geemap-colab .jupyter-button {\n",
              "                    --jp-layout-color3: var(--colab-primary-surface-color, white);\n",
              "                }\n",
              "            </style>\n",
              "            "
            ]
          },
          "metadata": {}
        },
        {
          "output_type": "stream",
          "name": "stdout",
          "text": [
            "To authorize access needed by Earth Engine, open the following URL in a web browser and follow the instructions. If the web browser does not start automatically, please manually browse the URL below.\n",
            "\n",
            "    https://code.earthengine.google.com/client-auth?scopes=https%3A//www.googleapis.com/auth/earthengine%20https%3A//www.googleapis.com/auth/cloud-platform%20https%3A//www.googleapis.com/auth/devstorage.full_control&request_id=RjBrc93oAWebqPlJ5qHgSdN4a6osW5znSh3oMB5D8V0&tc=l_HOb6i6-BRuDfdun2ZEbMzAx75qwvOQd3xC0N-hkvE&cc=8ne2zUfca7GWPVk7p7pSiFlsjCl21rKPDK43ugtR2v4\n",
            "\n",
            "The authorization workflow will generate a code, which you should paste in the box below.\n",
            "Enter verification code: 4/1AeaYSHAoK3WjDDZGR2j5bvG9PUPRYqI5nwCPzeUjkXFIhZkGQBM9YFy9fe8\n",
            "\n",
            "Successfully saved authorization token.\n"
          ]
        },
        {
          "output_type": "display_data",
          "data": {
            "text/plain": [
              "Map(center=[-22.9044, -43.131559], controls=(WidgetControl(options=['position', 'transparent_bg'], widget=Sear…"
            ],
            "application/vnd.jupyter.widget-view+json": {
              "version_major": 2,
              "version_minor": 0,
              "model_id": "996eea5a71334578a022a388f76bfd81"
            }
          },
          "metadata": {
            "application/vnd.jupyter.widget-view+json": {
              "colab": {
                "custom_widget_manager": {
                  "url": "https://ssl.gstatic.com/colaboratory-static/widgets/colab-cdn-widget-manager/2b70e893a8ba7c0f/manager.min.js"
                }
              }
            }
          }
        }
      ]
    },
    {
      "cell_type": "markdown",
      "source": [
        "O resultado fica assim (abaixo). Note que pelo github, o geemap não é completamente renderizado. Por isso estou copiando o resultado aqui. <br>\n",
        "\n",
        "\n",
        "![](https://github.com/andrebelem/pythonverse/blob/main/images/Campus%20da%20UFF%20Praia%20Vermelha.JPG?raw=true)\n",
        "\n",
        "\n",
        "Depois que o `geemap`foi autorizado pela primeira vez, você não precisa mais autorizá-lo. Basta usar normalmente a biblioteca. Note que este script é o primeiro de uma série de notebooks criados pelo Dr. [Qiusheng Wu](https://github.com/giswqs), e que você tem acesso aqui https://geemap.org/notebooks/00_ee_auth_colab/."
      ],
      "metadata": {
        "id": "DRLSfJMdu-0l"
      }
    },
    {
      "cell_type": "markdown",
      "source": [
        "Este é apenas o primeiro passo para começar a explorar o poder do Earth Engine. Com o geemap, você pode criar mapas interativos, visualizar dados geoespaciais e realizar análises complexas de forma simples e intuitiva. Continue explorando e experimentando com o Earth Engine e o geemap para descobrir todo o potencial que eles têm a oferecer!<br>\n",
        "\n",
        "Se você tiver comentários ou quiser adicionar algo, sinta-se a vontade de [me contactar](mailto:andrebelem@id.uff.br).\n",
        "\n"
      ],
      "metadata": {
        "id": "EJaJrdJ8uh5G"
      }
    }
  ]
}